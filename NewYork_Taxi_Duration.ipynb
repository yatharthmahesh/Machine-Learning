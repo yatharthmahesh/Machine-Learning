{
  "nbformat": 4,
  "nbformat_minor": 0,
  "metadata": {
    "colab": {
      "name": "NewYork Taxi Duration",
      "provenance": [],
      "authorship_tag": "ABX9TyNtpQV4OqA6v2ev8WB2zeKL",
      "include_colab_link": true
    },
    "kernelspec": {
      "name": "python3",
      "display_name": "Python 3"
    },
    "accelerator": "GPU"
  },
  "cells": [
    {
      "cell_type": "markdown",
      "metadata": {
        "id": "view-in-github",
        "colab_type": "text"
      },
      "source": [
        "<a href=\"https://colab.research.google.com/github/yatharthmahesh/Machine-Learning/blob/master/NewYork_Taxi_Duration.ipynb\" target=\"_parent\"><img src=\"https://colab.research.google.com/assets/colab-badge.svg\" alt=\"Open In Colab\"/></a>"
      ]
    },
    {
      "cell_type": "code",
      "metadata": {
        "id": "2gJuF3Re9El3",
        "colab_type": "code",
        "colab": {
          "base_uri": "https://localhost:8080/",
          "height": 202
        },
        "outputId": "6b32c972-dbf1-4e90-a506-9dfbf403a843"
      },
      "source": [
        "!pip install kaggle"
      ],
      "execution_count": 1,
      "outputs": [
        {
          "output_type": "stream",
          "text": [
            "Requirement already satisfied: kaggle in /usr/local/lib/python3.6/dist-packages (1.5.6)\n",
            "Requirement already satisfied: tqdm in /usr/local/lib/python3.6/dist-packages (from kaggle) (4.41.1)\n",
            "Requirement already satisfied: urllib3<1.25,>=1.21.1 in /usr/local/lib/python3.6/dist-packages (from kaggle) (1.24.3)\n",
            "Requirement already satisfied: python-slugify in /usr/local/lib/python3.6/dist-packages (from kaggle) (4.0.0)\n",
            "Requirement already satisfied: certifi in /usr/local/lib/python3.6/dist-packages (from kaggle) (2020.4.5.1)\n",
            "Requirement already satisfied: six>=1.10 in /usr/local/lib/python3.6/dist-packages (from kaggle) (1.12.0)\n",
            "Requirement already satisfied: requests in /usr/local/lib/python3.6/dist-packages (from kaggle) (2.23.0)\n",
            "Requirement already satisfied: python-dateutil in /usr/local/lib/python3.6/dist-packages (from kaggle) (2.8.1)\n",
            "Requirement already satisfied: text-unidecode>=1.3 in /usr/local/lib/python3.6/dist-packages (from python-slugify->kaggle) (1.3)\n",
            "Requirement already satisfied: idna<3,>=2.5 in /usr/local/lib/python3.6/dist-packages (from requests->kaggle) (2.9)\n",
            "Requirement already satisfied: chardet<4,>=3.0.2 in /usr/local/lib/python3.6/dist-packages (from requests->kaggle) (3.0.4)\n"
          ],
          "name": "stdout"
        }
      ]
    },
    {
      "cell_type": "code",
      "metadata": {
        "id": "-1avUdlg9oPO",
        "colab_type": "code",
        "colab": {}
      },
      "source": [
        "!mkdir .kaggle"
      ],
      "execution_count": 0,
      "outputs": []
    },
    {
      "cell_type": "code",
      "metadata": {
        "id": "NJ31s9jo9rK9",
        "colab_type": "code",
        "colab": {}
      },
      "source": [
        "import json\n",
        "token = {'username':'yatharthmahesh','key':'e1c86f0802374c752a9b59f360db6d51'}\n",
        "with open('/content/.kaggle/kaggle.json', 'w') as file:\n",
        "    json.dump(token, file)"
      ],
      "execution_count": 0,
      "outputs": []
    },
    {
      "cell_type": "code",
      "metadata": {
        "id": "MMIjLJns-cEt",
        "colab_type": "code",
        "colab": {}
      },
      "source": [
        "!cp /content/.kaggle/kaggle.json ~/.kaggle/kaggle.json"
      ],
      "execution_count": 0,
      "outputs": []
    },
    {
      "cell_type": "code",
      "metadata": {
        "id": "dP974Uib-wJm",
        "colab_type": "code",
        "colab": {
          "base_uri": "https://localhost:8080/",
          "height": 50
        },
        "outputId": "f0ef7683-9691-4421-f606-f87af856980c"
      },
      "source": [
        "!kaggle config set -n path -v{}"
      ],
      "execution_count": 14,
      "outputs": [
        {
          "output_type": "stream",
          "text": [
            "Warning: Your Kaggle API key is readable by other users on this system! To fix this, you can run 'chmod 600 /root/.kaggle/kaggle.json'\n",
            "- path is now set to: {}\n"
          ],
          "name": "stdout"
        }
      ]
    },
    {
      "cell_type": "code",
      "metadata": {
        "id": "KWM0zYgk-z42",
        "colab_type": "code",
        "colab": {}
      },
      "source": [
        "!chmod 600 /root/.kaggle/kaggle.json"
      ],
      "execution_count": 0,
      "outputs": []
    },
    {
      "cell_type": "code",
      "metadata": {
        "id": "0Q0X--7u_Qdq",
        "colab_type": "code",
        "colab": {
          "base_uri": "https://localhost:8080/",
          "height": 403
        },
        "outputId": "9857695e-421b-457e-fbae-bac8f9b7eba0"
      },
      "source": [
        "!kaggle competitions list"
      ],
      "execution_count": 16,
      "outputs": [
        {
          "output_type": "stream",
          "text": [
            "Warning: Looks like you're using an outdated API Version, please consider updating (server 1.5.6 / client 1.5.4)\n",
            "ref                                               deadline             category            reward  teamCount  userHasEntered  \n",
            "------------------------------------------------  -------------------  ---------------  ---------  ---------  --------------  \n",
            "digit-recognizer                                  2030-01-01 00:00:00  Getting Started  Knowledge       3201           False  \n",
            "titanic                                           2030-01-01 00:00:00  Getting Started  Knowledge      23916           False  \n",
            "house-prices-advanced-regression-techniques       2030-01-01 00:00:00  Getting Started  Knowledge       5428            True  \n",
            "connectx                                          2030-01-01 00:00:00  Getting Started  Knowledge        387           False  \n",
            "nlp-getting-started                               2030-01-01 00:00:00  Getting Started      Kudos       1715           False  \n",
            "competitive-data-science-predict-future-sales     2020-12-31 23:59:00  Playground           Kudos       7273           False  \n",
            "siim-isic-melanoma-classification                 2020-08-17 23:59:00  Featured           $30,000        815           False  \n",
            "global-wheat-detection                            2020-08-04 23:59:00  Research           $15,000        801           False  \n",
            "open-images-object-detection-rvc-2020             2020-07-31 16:00:00  Playground       Knowledge         26           False  \n",
            "open-images-instance-segmentation-rvc-2020        2020-07-31 16:00:00  Playground       Knowledge          5           False  \n",
            "hashcode-photo-slideshow                          2020-07-27 23:59:00  Playground       Knowledge         35           False  \n",
            "prostate-cancer-grade-assessment                  2020-07-22 23:59:00  Featured           $25,000        558           False  \n",
            "alaska2-image-steganalysis                        2020-07-20 23:59:00  Research           $25,000        514            True  \n",
            "halite                                            2020-06-30 23:59:00  Featured             Kudos          0           False  \n",
            "m5-forecasting-accuracy                           2020-06-30 23:59:00  Featured           $50,000       4890           False  \n",
            "m5-forecasting-uncertainty                        2020-06-30 23:59:00  Featured           $50,000        615           False  \n",
            "trends-assessment-prediction                      2020-06-29 23:59:00  Research           $25,000        669           False  \n",
            "jigsaw-multilingual-toxic-comment-classification  2020-06-22 23:59:00  Featured           $50,000       1386           False  \n",
            "tweet-sentiment-extraction                        2020-06-16 23:59:00  Featured           $15,000       2058           False  \n",
            "trec-covid-information-retrieval                  2020-06-03 11:00:00  Research             Kudos         19           False  \n"
          ],
          "name": "stdout"
        }
      ]
    },
    {
      "cell_type": "code",
      "metadata": {
        "id": "3g88rw3vCk27",
        "colab_type": "code",
        "colab": {
          "base_uri": "https://localhost:8080/",
          "height": 84
        },
        "outputId": "27c3302a-e643-49ef-c58a-aced3005da42"
      },
      "source": [
        "!kaggle competitions list -s nyc-taxi-trip-duration"
      ],
      "execution_count": 17,
      "outputs": [
        {
          "output_type": "stream",
          "text": [
            "Warning: Looks like you're using an outdated API Version, please consider updating (server 1.5.6 / client 1.5.4)\n",
            "ref                     deadline             category     reward  teamCount  userHasEntered  \n",
            "----------------------  -------------------  ----------  -------  ---------  --------------  \n",
            "nyc-taxi-trip-duration  2017-09-15 23:59:00  Playground  $30,000       1257            True  \n"
          ],
          "name": "stdout"
        }
      ]
    },
    {
      "cell_type": "code",
      "metadata": {
        "id": "A56O77wFC8CS",
        "colab_type": "code",
        "colab": {
          "base_uri": "https://localhost:8080/",
          "height": 185
        },
        "outputId": "de9e90ee-e370-484c-f7ed-1a0efe735680"
      },
      "source": [
        "!kaggle competitions download -c nyc-taxi-trip-duration"
      ],
      "execution_count": 18,
      "outputs": [
        {
          "output_type": "stream",
          "text": [
            "Warning: Looks like you're using an outdated API Version, please consider updating (server 1.5.6 / client 1.5.4)\n",
            "Downloading train.zip to {}/competitions/nyc-taxi-trip-duration\n",
            "\r  0% 0.00/62.9M [00:00<?, ?B/s]\r  8% 5.00M/62.9M [00:00<00:01, 42.4MB/s]\r 14% 9.00M/62.9M [00:00<00:02, 28.1MB/s]\r 27% 17.0M/62.9M [00:00<00:01, 28.0MB/s]\r 57% 36.0M/62.9M [00:00<00:00, 37.7MB/s]\r 78% 49.0M/62.9M [00:00<00:00, 45.2MB/s]\n",
            "100% 62.9M/62.9M [00:01<00:00, 61.9MB/s]\n",
            "Downloading sample_submission.zip to {}/competitions/nyc-taxi-trip-duration\n",
            "  0% 0.00/2.49M [00:00<?, ?B/s]\n",
            "100% 2.49M/2.49M [00:00<00:00, 83.1MB/s]\n",
            "Downloading test.zip to {}/competitions/nyc-taxi-trip-duration\n",
            " 59% 12.0M/20.3M [00:00<00:00, 33.6MB/s]\n",
            "100% 20.3M/20.3M [00:00<00:00, 58.5MB/s]\n"
          ],
          "name": "stdout"
        }
      ]
    },
    {
      "cell_type": "code",
      "metadata": {
        "id": "sIhCU28YECr9",
        "colab_type": "code",
        "colab": {
          "base_uri": "https://localhost:8080/",
          "height": 353
        },
        "outputId": "33b848b3-7eeb-4b74-f386-d6d8c68c17e7"
      },
      "source": [
        "!kaggle competitions download -c nyc-taxi-trip-duration -p /content\n",
        "!unzip \\*.zip"
      ],
      "execution_count": 19,
      "outputs": [
        {
          "output_type": "stream",
          "text": [
            "Warning: Looks like you're using an outdated API Version, please consider updating (server 1.5.6 / client 1.5.4)\n",
            "Downloading test.zip to /content\n",
            "\r  0% 0.00/20.3M [00:00<?, ?B/s]\r 88% 18.0M/20.3M [00:00<00:00, 182MB/s]\n",
            "\r100% 20.3M/20.3M [00:00<00:00, 188MB/s]\n",
            "Downloading train.zip to /content\n",
            " 91% 57.0M/62.9M [00:00<00:00, 129MB/s]\n",
            "100% 62.9M/62.9M [00:00<00:00, 140MB/s]\n",
            "Downloading sample_submission.zip to /content\n",
            "  0% 0.00/2.49M [00:00<?, ?B/s]\n",
            "100% 2.49M/2.49M [00:00<00:00, 170MB/s]\n",
            "Archive:  sample_submission.zip\n",
            "  inflating: sample_submission.csv   \n",
            "\n",
            "Archive:  train.zip\n",
            "  inflating: train.csv               \n",
            "\n",
            "Archive:  test.zip\n",
            "  inflating: test.csv                \n",
            "\n",
            "3 archives were successfully processed.\n"
          ],
          "name": "stdout"
        }
      ]
    },
    {
      "cell_type": "code",
      "metadata": {
        "id": "XWIAB7NtFnNX",
        "colab_type": "code",
        "colab": {}
      },
      "source": [
        "import pandas as pd\n",
        "import numpy as np\n",
        "import matplotlib.pyplot as plt\n",
        "%matplotlib inline\n",
        "import seaborn as sns\n",
        "from datetime import datetime\n",
        "from sklearn.cluster import MiniBatchKMeans\n",
        "from sklearn.model_selection import train_test_split\n",
        "from sklearn.model_selection import cross_val_score\n",
        "import xgboost as xgb\n",
        "from sklearn.utils import shuffle"
      ],
      "execution_count": 0,
      "outputs": []
    },
    {
      "cell_type": "code",
      "metadata": {
        "id": "Y8BCIyR6GX6q",
        "colab_type": "code",
        "colab": {}
      },
      "source": [
        "train=pd.read_csv('/content/train.csv')"
      ],
      "execution_count": 0,
      "outputs": []
    },
    {
      "cell_type": "code",
      "metadata": {
        "id": "7Bslc8yFGZSa",
        "colab_type": "code",
        "colab": {}
      },
      "source": [
        "test=pd.read_csv('/content/test.csv')"
      ],
      "execution_count": 0,
      "outputs": []
    },
    {
      "cell_type": "code",
      "metadata": {
        "id": "Dstex1-3GrW2",
        "colab_type": "code",
        "colab": {
          "base_uri": "https://localhost:8080/",
          "height": 605
        },
        "outputId": "b0708463-5702-4702-ee74-4c37aec4cc56"
      },
      "source": [
        "test.info(),train.info()"
      ],
      "execution_count": 23,
      "outputs": [
        {
          "output_type": "stream",
          "text": [
            "<class 'pandas.core.frame.DataFrame'>\n",
            "RangeIndex: 625134 entries, 0 to 625133\n",
            "Data columns (total 9 columns):\n",
            " #   Column              Non-Null Count   Dtype  \n",
            "---  ------              --------------   -----  \n",
            " 0   id                  625134 non-null  object \n",
            " 1   vendor_id           625134 non-null  int64  \n",
            " 2   pickup_datetime     625134 non-null  object \n",
            " 3   passenger_count     625134 non-null  int64  \n",
            " 4   pickup_longitude    625134 non-null  float64\n",
            " 5   pickup_latitude     625134 non-null  float64\n",
            " 6   dropoff_longitude   625134 non-null  float64\n",
            " 7   dropoff_latitude    625134 non-null  float64\n",
            " 8   store_and_fwd_flag  625134 non-null  object \n",
            "dtypes: float64(4), int64(2), object(3)\n",
            "memory usage: 42.9+ MB\n",
            "<class 'pandas.core.frame.DataFrame'>\n",
            "RangeIndex: 1458644 entries, 0 to 1458643\n",
            "Data columns (total 11 columns):\n",
            " #   Column              Non-Null Count    Dtype  \n",
            "---  ------              --------------    -----  \n",
            " 0   id                  1458644 non-null  object \n",
            " 1   vendor_id           1458644 non-null  int64  \n",
            " 2   pickup_datetime     1458644 non-null  object \n",
            " 3   dropoff_datetime    1458644 non-null  object \n",
            " 4   passenger_count     1458644 non-null  int64  \n",
            " 5   pickup_longitude    1458644 non-null  float64\n",
            " 6   pickup_latitude     1458644 non-null  float64\n",
            " 7   dropoff_longitude   1458644 non-null  float64\n",
            " 8   dropoff_latitude    1458644 non-null  float64\n",
            " 9   store_and_fwd_flag  1458644 non-null  object \n",
            " 10  trip_duration       1458644 non-null  int64  \n",
            "dtypes: float64(4), int64(3), object(4)\n",
            "memory usage: 122.4+ MB\n"
          ],
          "name": "stdout"
        },
        {
          "output_type": "execute_result",
          "data": {
            "text/plain": [
              "(None, None)"
            ]
          },
          "metadata": {
            "tags": []
          },
          "execution_count": 23
        }
      ]
    },
    {
      "cell_type": "code",
      "metadata": {
        "id": "deoDxg1fGtwm",
        "colab_type": "code",
        "colab": {
          "base_uri": "https://localhost:8080/",
          "height": 34
        },
        "outputId": "efa3291c-6647-4c1b-e2e7-88783011c52c"
      },
      "source": [
        "test.shape[0]/train.shape[0]"
      ],
      "execution_count": 24,
      "outputs": [
        {
          "output_type": "execute_result",
          "data": {
            "text/plain": [
              "0.42857201620134866"
            ]
          },
          "metadata": {
            "tags": []
          },
          "execution_count": 24
        }
      ]
    },
    {
      "cell_type": "code",
      "metadata": {
        "id": "59fp0NrjGwQh",
        "colab_type": "code",
        "colab": {
          "base_uri": "https://localhost:8080/",
          "height": 101
        },
        "outputId": "4590e48a-9eab-4a2b-d704-bf64e3b69401"
      },
      "source": [
        "train.columns"
      ],
      "execution_count": 25,
      "outputs": [
        {
          "output_type": "execute_result",
          "data": {
            "text/plain": [
              "Index(['id', 'vendor_id', 'pickup_datetime', 'dropoff_datetime',\n",
              "       'passenger_count', 'pickup_longitude', 'pickup_latitude',\n",
              "       'dropoff_longitude', 'dropoff_latitude', 'store_and_fwd_flag',\n",
              "       'trip_duration'],\n",
              "      dtype='object')"
            ]
          },
          "metadata": {
            "tags": []
          },
          "execution_count": 25
        }
      ]
    },
    {
      "cell_type": "code",
      "metadata": {
        "id": "8P0f_00oGySo",
        "colab_type": "code",
        "colab": {
          "base_uri": "https://localhost:8080/",
          "height": 84
        },
        "outputId": "fbaa20e8-1694-40d2-e2a5-1a905037ccf9"
      },
      "source": [
        "test.columns"
      ],
      "execution_count": 26,
      "outputs": [
        {
          "output_type": "execute_result",
          "data": {
            "text/plain": [
              "Index(['id', 'vendor_id', 'pickup_datetime', 'passenger_count',\n",
              "       'pickup_longitude', 'pickup_latitude', 'dropoff_longitude',\n",
              "       'dropoff_latitude', 'store_and_fwd_flag'],\n",
              "      dtype='object')"
            ]
          },
          "metadata": {
            "tags": []
          },
          "execution_count": 26
        }
      ]
    },
    {
      "cell_type": "code",
      "metadata": {
        "id": "HndoctaqG0px",
        "colab_type": "code",
        "colab": {
          "base_uri": "https://localhost:8080/",
          "height": 34
        },
        "outputId": "a811a527-97c5-4247-bd57-b5332485d38f"
      },
      "source": [
        "print(min(train['pickup_latitude']),max(train['pickup_latitude']))"
      ],
      "execution_count": 27,
      "outputs": [
        {
          "output_type": "stream",
          "text": [
            "34.359695434570305 51.88108444213867\n"
          ],
          "name": "stdout"
        }
      ]
    },
    {
      "cell_type": "code",
      "metadata": {
        "id": "mS2lgd-eG2sD",
        "colab_type": "code",
        "colab": {
          "base_uri": "https://localhost:8080/",
          "height": 34
        },
        "outputId": "38d0a8d7-8ebe-4f17-8f68-d336059db892"
      },
      "source": [
        "#min_latitude=train['pickup_latitude'].mean()-3*np.std(train['pickup_latitude'])\n",
        "#max_latitude=train['pickup_latitude'].mean()+3*np.std(train['pickup_latitude'])\n",
        "#min_longitude=train['pickup_longitude'].mean()-3*np.std(train['pickup_longitude'])\n",
        "#max_longitude=train['pickup_longitude'].mean()+3*np.std(train['pickup_longitude'])\n",
        "max_latitude=40.85\n",
        "min_latitude=40.63\n",
        "max_longitude=-73.75\n",
        "min_longitude=-74.03\n",
        "city_long_border = (-74.03, -73.75)\n",
        "city_lat_border = (40.63, 40.85)\n",
        "\n",
        "min_latitude,max_latitude,min_longitude,max_longitude"
      ],
      "execution_count": 28,
      "outputs": [
        {
          "output_type": "execute_result",
          "data": {
            "text/plain": [
              "(40.63, 40.85, -74.03, -73.75)"
            ]
          },
          "metadata": {
            "tags": []
          },
          "execution_count": 28
        }
      ]
    },
    {
      "cell_type": "code",
      "metadata": {
        "id": "Dw2qaO7RG5_M",
        "colab_type": "code",
        "colab": {
          "base_uri": "https://localhost:8080/",
          "height": 34
        },
        "outputId": "1cfb259e-d362-4495-986c-1f240c11b5f4"
      },
      "source": [
        "real_size=train.shape[0]\n",
        "train = train[train['pickup_longitude'] <= max_longitude]\n",
        "#print(train.shape)\n",
        "train = train[train['pickup_longitude'] >= min_longitude]\n",
        "train = train[train['pickup_latitude'] <= max_latitude]\n",
        "train = train[train['pickup_latitude'] >= min_latitude]\n",
        "train = train[train['dropoff_longitude'] <= max_longitude]\n",
        "train = train[train['dropoff_longitude'] >= min_longitude]\n",
        "train = train[train['dropoff_latitude'] <= max_latitude]\n",
        "train = train[train['dropoff_latitude'] >= min_latitude]\n",
        "now_size=train.shape[0]\n",
        "print(now_size/real_size)\n"
      ],
      "execution_count": 29,
      "outputs": [
        {
          "output_type": "stream",
          "text": [
            "0.9866581564795797\n"
          ],
          "name": "stdout"
        }
      ]
    },
    {
      "cell_type": "code",
      "metadata": {
        "id": "9GitcgvQG78H",
        "colab_type": "code",
        "colab": {
          "base_uri": "https://localhost:8080/",
          "height": 498
        },
        "outputId": "5055357c-c227-4185-b23c-7cc9b726c2cc"
      },
      "source": [
        "z=train['trip_duration']\n",
        "print(z.sort_values(ascending=False))\n",
        "sns.distplot(np.log(z))\n",
        "z.mean()\n",
        "real_size=train.shape[0]\n",
        "train=train[train['trip_duration']<=86392]\n",
        "now_size=train.shape[0]\n",
        "print(now_size/real_size)"
      ],
      "execution_count": 30,
      "outputs": [
        {
          "output_type": "stream",
          "text": [
            "978383     3526282\n",
            "924150     2227612\n",
            "680594     2049578\n",
            "355003     1939736\n",
            "1234291      86392\n",
            "            ...   \n",
            "1034341          1\n",
            "207497           1\n",
            "467645           1\n",
            "761666           1\n",
            "767271           1\n",
            "Name: trip_duration, Length: 1439183, dtype: int64\n",
            "0.9999972206453245\n"
          ],
          "name": "stdout"
        },
        {
          "output_type": "display_data",
          "data": {
            "image/png": "[encoded data removed]",
            "text/plain": [
              "<Figure size 432x288 with 1 Axes>"
            ]
          },
          "metadata": {
            "tags": [],
            "needs_background": "light"
          }
        }
      ]
    },
    {
      "cell_type": "code",
      "metadata": {
        "id": "QZ_PMIIIG9wy",
        "colab_type": "code",
        "colab": {
          "base_uri": "https://localhost:8080/",
          "height": 34
        },
        "outputId": "c8d324a5-f388-4227-9288-cb36dc0c6ed6"
      },
      "source": [
        "train['pickup_datetime'][0]"
      ],
      "execution_count": 31,
      "outputs": [
        {
          "output_type": "execute_result",
          "data": {
            "text/plain": [
              "'2016-03-14 17:24:55'"
            ]
          },
          "metadata": {
            "tags": []
          },
          "execution_count": 31
        }
      ]
    },
    {
      "cell_type": "code",
      "metadata": {
        "id": "7dq4B8_7HBxf",
        "colab_type": "code",
        "colab": {}
      },
      "source": [
        "train['pickup_datetime'] = pd.to_datetime(train.pickup_datetime)\n",
        "test['pickup_datetime'] = pd.to_datetime(test.pickup_datetime)"
      ],
      "execution_count": 0,
      "outputs": []
    },
    {
      "cell_type": "code",
      "metadata": {
        "id": "d7Xt70GzHGe8",
        "colab_type": "code",
        "colab": {
          "base_uri": "https://localhost:8080/",
          "height": 218
        },
        "outputId": "63c5b8a0-30d1-47e4-fe02-2836fb516013"
      },
      "source": [
        "train['pickup_datetime']\n",
        "test['pickup_datetime']"
      ],
      "execution_count": 33,
      "outputs": [
        {
          "output_type": "execute_result",
          "data": {
            "text/plain": [
              "0        2016-06-30 23:59:58\n",
              "1        2016-06-30 23:59:53\n",
              "2        2016-06-30 23:59:47\n",
              "3        2016-06-30 23:59:41\n",
              "4        2016-06-30 23:59:33\n",
              "                 ...        \n",
              "625129   2016-01-01 00:02:52\n",
              "625130   2016-01-01 00:01:52\n",
              "625131   2016-01-01 00:01:24\n",
              "625132   2016-01-01 00:00:28\n",
              "625133   2016-01-01 00:00:22\n",
              "Name: pickup_datetime, Length: 625134, dtype: datetime64[ns]"
            ]
          },
          "metadata": {
            "tags": []
          },
          "execution_count": 33
        }
      ]
    },
    {
      "cell_type": "code",
      "metadata": {
        "id": "YBw5Ld83HIYY",
        "colab_type": "code",
        "colab": {}
      },
      "source": [
        "train.loc[:, 'pick_date'] = train['pickup_datetime'].dt.date\n",
        "test.loc[:, 'pick_date'] = test['pickup_datetime'].dt.date"
      ],
      "execution_count": 0,
      "outputs": []
    },
    {
      "cell_type": "code",
      "metadata": {
        "id": "-t2p4YytHKi8",
        "colab_type": "code",
        "colab": {
          "base_uri": "https://localhost:8080/",
          "height": 218
        },
        "outputId": "d7079332-fd7f-46b7-b91a-4a759c1389d8"
      },
      "source": [
        "\n",
        "train['pick_date']\n",
        "test['pick_date']"
      ],
      "execution_count": 35,
      "outputs": [
        {
          "output_type": "execute_result",
          "data": {
            "text/plain": [
              "0         2016-06-30\n",
              "1         2016-06-30\n",
              "2         2016-06-30\n",
              "3         2016-06-30\n",
              "4         2016-06-30\n",
              "             ...    \n",
              "625129    2016-01-01\n",
              "625130    2016-01-01\n",
              "625131    2016-01-01\n",
              "625132    2016-01-01\n",
              "625133    2016-01-01\n",
              "Name: pick_date, Length: 625134, dtype: object"
            ]
          },
          "metadata": {
            "tags": []
          },
          "execution_count": 35
        }
      ]
    },
    {
      "cell_type": "code",
      "metadata": {
        "id": "xFh3kJEfHMq1",
        "colab_type": "code",
        "colab": {
          "base_uri": "https://localhost:8080/",
          "height": 1000
        },
        "outputId": "264c8a1c-bc68-4840-fead-2e0b82a3882d"
      },
      "source": [
        "# plt.figure(figsize=(10,15))\n",
        "# plt.plot(train.groupby(['pick_date']).count(),color='red')\n",
        "# plt.plot(test.groupby(['pick_date']).count(),color='green')\n"
      ],
      "execution_count": 36,
      "outputs": [
        {
          "output_type": "execute_result",
          "data": {
            "text/plain": [
              "[<matplotlib.lines.Line2D at 0x7f0a9853cf60>,\n",
              " <matplotlib.lines.Line2D at 0x7f0aae8d2048>,\n",
              " <matplotlib.lines.Line2D at 0x7f0aae8d21d0>,\n",
              " <matplotlib.lines.Line2D at 0x7f0aae8d2320>,\n",
              " <matplotlib.lines.Line2D at 0x7f0aae8d2470>,\n",
              " <matplotlib.lines.Line2D at 0x7f0aae8d25c0>,\n",
              " <matplotlib.lines.Line2D at 0x7f0aae8d2710>,\n",
              " <matplotlib.lines.Line2D at 0x7f0aae8d2860>,\n",
              " <matplotlib.lines.Line2D at 0x7f0aae8d29b0>]"
            ]
          },
          "metadata": {
            "tags": []
          },
          "execution_count": 36
        },
        {
          "output_type": "display_data",
          "data": {
            "image/png": "[encoded data removed]",
            "text/plain": [
              "<Figure size 720x1080 with 1 Axes>"
            ]
          },
          "metadata": {
            "tags": [],
            "needs_background": "light"
          }
        }
      ]
    },
    {
      "cell_type": "code",
      "metadata": {
        "id": "KZbSbrYiHO9P",
        "colab_type": "code",
        "colab": {}
      },
      "source": [
        "train['pick_month'] = train['pickup_datetime'].dt.month\n",
        "train['pick_hour']=train['pickup_datetime'].dt.hour\n",
        "train['pick_day']=train['pickup_datetime'].dt.dayofweek\n",
        "\n",
        "test['pick_month'] = test['pickup_datetime'].dt.month\n",
        "test['pick_hour']=test['pickup_datetime'].dt.hour\n",
        "test['pick_day']=test['pickup_datetime'].dt.dayofweek\n"
      ],
      "execution_count": 0,
      "outputs": []
    },
    {
      "cell_type": "code",
      "metadata": {
        "id": "ZIuHarhUHSJH",
        "colab_type": "code",
        "colab": {}
      },
      "source": [
        "# train['pick_month']\n",
        "# z=train['pickup_datetime'].dt.dayofweek"
      ],
      "execution_count": 0,
      "outputs": []
    },
    {
      "cell_type": "code",
      "metadata": {
        "id": "ZUkgGplzHT3w",
        "colab_type": "code",
        "colab": {
          "base_uri": "https://localhost:8080/",
          "height": 34
        },
        "outputId": "999d76d0-8cc1-48f3-e934-05ac3f5e7bcb"
      },
      "source": [
        "z.nunique()"
      ],
      "execution_count": 39,
      "outputs": [
        {
          "output_type": "execute_result",
          "data": {
            "text/plain": [
              "7"
            ]
          },
          "metadata": {
            "tags": []
          },
          "execution_count": 39
        }
      ]
    },
    {
      "cell_type": "code",
      "metadata": {
        "id": "Z8nez9fTHV60",
        "colab_type": "code",
        "colab": {
          "base_uri": "https://localhost:8080/",
          "height": 296
        },
        "outputId": "f7d12587-a4f6-4d61-b998-64f8f87b32df"
      },
      "source": [
        "# plt.plot(train.groupby('pick_day')['trip_duration'].mean(),'-')\n",
        "# plt.xlabel('Day Of Week')\n",
        "# plt.ylabel('Mean Trip Duration')"
      ],
      "execution_count": 40,
      "outputs": [
        {
          "output_type": "execute_result",
          "data": {
            "text/plain": [
              "Text(0, 0.5, 'Mean Trip Duration')"
            ]
          },
          "metadata": {
            "tags": []
          },
          "execution_count": 40
        },
        {
          "output_type": "display_data",
          "data": {
            "image/png": "[encoded data removed]",
            "text/plain": [
              "<Figure size 432x288 with 1 Axes>"
            ]
          },
          "metadata": {
            "tags": [],
            "needs_background": "light"
          }
        }
      ]
    },
    {
      "cell_type": "code",
      "metadata": {
        "id": "zbqy41BtHXhs",
        "colab_type": "code",
        "colab": {
          "base_uri": "https://localhost:8080/",
          "height": 282
        },
        "outputId": "eaefe533-1051-49c3-db53-5469a9c81a3b"
      },
      "source": [
        "# plt.plot(train.groupby('passenger_count')['trip_duration'].mean(),'-o')"
      ],
      "execution_count": 41,
      "outputs": [
        {
          "output_type": "execute_result",
          "data": {
            "text/plain": [
              "[<matplotlib.lines.Line2D at 0x7f0aae85ba58>]"
            ]
          },
          "metadata": {
            "tags": []
          },
          "execution_count": 41
        },
        {
          "output_type": "display_data",
          "data": {
            "image/png": "[encoded data removed]",
            "text/plain": [
              "<Figure size 432x288 with 1 Axes>"
            ]
          },
          "metadata": {
            "tags": [],
            "needs_background": "light"
          }
        }
      ]
    },
    {
      "cell_type": "code",
      "metadata": {
        "id": "WkXbwZpmHZrn",
        "colab_type": "code",
        "colab": {
          "base_uri": "https://localhost:8080/",
          "height": 304
        },
        "outputId": "f43cc55d-8565-414c-9160-351e0cb5679a"
      },
      "source": [
        "# train.groupby('passenger_count').count()\n",
        "# #sns.distplot(train.groupby('passenger_count').count())"
      ],
      "execution_count": 42,
      "outputs": [
        {
          "output_type": "execute_result",
          "data": {
            "text/html": [
              "<div>\n",
              "<style scoped>\n",
              "    .dataframe tbody tr th:only-of-type {\n",
              "        vertical-align: middle;\n",
              "    }\n",
              "\n",
              "    .dataframe tbody tr th {\n",
              "        vertical-align: top;\n",
              "    }\n",
              "\n",
              "    .dataframe thead th {\n",
              "        text-align: right;\n",
              "    }\n",
              "</style>\n",
              "<table border=\"1\" class=\"dataframe\">\n",
              "  <thead>\n",
              "    <tr style=\"text-align: right;\">\n",
              "      <th></th>\n",
              "      <th>id</th>\n",
              "      <th>vendor_id</th>\n",
              "      <th>pickup_datetime</th>\n",
              "      <th>dropoff_datetime</th>\n",
              "      <th>pickup_longitude</th>\n",
              "      <th>pickup_latitude</th>\n",
              "      <th>dropoff_longitude</th>\n",
              "      <th>dropoff_latitude</th>\n",
              "      <th>store_and_fwd_flag</th>\n",
              "      <th>trip_duration</th>\n",
              "      <th>pick_date</th>\n",
              "      <th>pick_month</th>\n",
              "      <th>pick_hour</th>\n",
              "      <th>pick_day</th>\n",
              "    </tr>\n",
              "    <tr>\n",
              "      <th>passenger_count</th>\n",
              "      <th></th>\n",
              "      <th></th>\n",
              "      <th></th>\n",
              "      <th></th>\n",
              "      <th></th>\n",
              "      <th></th>\n",
              "      <th></th>\n",
              "      <th></th>\n",
              "      <th></th>\n",
              "      <th></th>\n",
              "      <th></th>\n",
              "      <th></th>\n",
              "      <th></th>\n",
              "      <th></th>\n",
              "    </tr>\n",
              "  </thead>\n",
              "  <tbody>\n",
              "    <tr>\n",
              "      <th>0</th>\n",
              "      <td>53</td>\n",
              "      <td>53</td>\n",
              "      <td>53</td>\n",
              "      <td>53</td>\n",
              "      <td>53</td>\n",
              "      <td>53</td>\n",
              "      <td>53</td>\n",
              "      <td>53</td>\n",
              "      <td>53</td>\n",
              "      <td>53</td>\n",
              "      <td>53</td>\n",
              "      <td>53</td>\n",
              "      <td>53</td>\n",
              "      <td>53</td>\n",
              "    </tr>\n",
              "    <tr>\n",
              "      <th>1</th>\n",
              "      <td>1019947</td>\n",
              "      <td>1019947</td>\n",
              "      <td>1019947</td>\n",
              "      <td>1019947</td>\n",
              "      <td>1019947</td>\n",
              "      <td>1019947</td>\n",
              "      <td>1019947</td>\n",
              "      <td>1019947</td>\n",
              "      <td>1019947</td>\n",
              "      <td>1019947</td>\n",
              "      <td>1019947</td>\n",
              "      <td>1019947</td>\n",
              "      <td>1019947</td>\n",
              "      <td>1019947</td>\n",
              "    </tr>\n",
              "    <tr>\n",
              "      <th>2</th>\n",
              "      <td>207166</td>\n",
              "      <td>207166</td>\n",
              "      <td>207166</td>\n",
              "      <td>207166</td>\n",
              "      <td>207166</td>\n",
              "      <td>207166</td>\n",
              "      <td>207166</td>\n",
              "      <td>207166</td>\n",
              "      <td>207166</td>\n",
              "      <td>207166</td>\n",
              "      <td>207166</td>\n",
              "      <td>207166</td>\n",
              "      <td>207166</td>\n",
              "      <td>207166</td>\n",
              "    </tr>\n",
              "    <tr>\n",
              "      <th>3</th>\n",
              "      <td>59104</td>\n",
              "      <td>59104</td>\n",
              "      <td>59104</td>\n",
              "      <td>59104</td>\n",
              "      <td>59104</td>\n",
              "      <td>59104</td>\n",
              "      <td>59104</td>\n",
              "      <td>59104</td>\n",
              "      <td>59104</td>\n",
              "      <td>59104</td>\n",
              "      <td>59104</td>\n",
              "      <td>59104</td>\n",
              "      <td>59104</td>\n",
              "      <td>59104</td>\n",
              "    </tr>\n",
              "    <tr>\n",
              "      <th>4</th>\n",
              "      <td>28011</td>\n",
              "      <td>28011</td>\n",
              "      <td>28011</td>\n",
              "      <td>28011</td>\n",
              "      <td>28011</td>\n",
              "      <td>28011</td>\n",
              "      <td>28011</td>\n",
              "      <td>28011</td>\n",
              "      <td>28011</td>\n",
              "      <td>28011</td>\n",
              "      <td>28011</td>\n",
              "      <td>28011</td>\n",
              "      <td>28011</td>\n",
              "      <td>28011</td>\n",
              "    </tr>\n",
              "    <tr>\n",
              "      <th>5</th>\n",
              "      <td>77127</td>\n",
              "      <td>77127</td>\n",
              "      <td>77127</td>\n",
              "      <td>77127</td>\n",
              "      <td>77127</td>\n",
              "      <td>77127</td>\n",
              "      <td>77127</td>\n",
              "      <td>77127</td>\n",
              "      <td>77127</td>\n",
              "      <td>77127</td>\n",
              "      <td>77127</td>\n",
              "      <td>77127</td>\n",
              "      <td>77127</td>\n",
              "      <td>77127</td>\n",
              "    </tr>\n",
              "    <tr>\n",
              "      <th>6</th>\n",
              "      <td>47771</td>\n",
              "      <td>47771</td>\n",
              "      <td>47771</td>\n",
              "      <td>47771</td>\n",
              "      <td>47771</td>\n",
              "      <td>47771</td>\n",
              "      <td>47771</td>\n",
              "      <td>47771</td>\n",
              "      <td>47771</td>\n",
              "      <td>47771</td>\n",
              "      <td>47771</td>\n",
              "      <td>47771</td>\n",
              "      <td>47771</td>\n",
              "      <td>47771</td>\n",
              "    </tr>\n",
              "  </tbody>\n",
              "</table>\n",
              "</div>"
            ],
            "text/plain": [
              "                      id  vendor_id  ...  pick_hour  pick_day\n",
              "passenger_count                      ...                     \n",
              "0                     53         53  ...         53        53\n",
              "1                1019947    1019947  ...    1019947   1019947\n",
              "2                 207166     207166  ...     207166    207166\n",
              "3                  59104      59104  ...      59104     59104\n",
              "4                  28011      28011  ...      28011     28011\n",
              "5                  77127      77127  ...      77127     77127\n",
              "6                  47771      47771  ...      47771     47771\n",
              "\n",
              "[7 rows x 14 columns]"
            ]
          },
          "metadata": {
            "tags": []
          },
          "execution_count": 42
        }
      ]
    },
    {
      "cell_type": "code",
      "metadata": {
        "id": "efuWueZCHbgT",
        "colab_type": "code",
        "colab": {
          "base_uri": "https://localhost:8080/",
          "height": 156
        },
        "outputId": "352d97f3-65a8-4436-ff9d-789fde6e2b1d"
      },
      "source": [
        "train.groupby('vendor_id').count()"
      ],
      "execution_count": 43,
      "outputs": [
        {
          "output_type": "execute_result",
          "data": {
            "text/html": [
              "<div>\n",
              "<style scoped>\n",
              "    .dataframe tbody tr th:only-of-type {\n",
              "        vertical-align: middle;\n",
              "    }\n",
              "\n",
              "    .dataframe tbody tr th {\n",
              "        vertical-align: top;\n",
              "    }\n",
              "\n",
              "    .dataframe thead th {\n",
              "        text-align: right;\n",
              "    }\n",
              "</style>\n",
              "<table border=\"1\" class=\"dataframe\">\n",
              "  <thead>\n",
              "    <tr style=\"text-align: right;\">\n",
              "      <th></th>\n",
              "      <th>id</th>\n",
              "      <th>pickup_datetime</th>\n",
              "      <th>dropoff_datetime</th>\n",
              "      <th>passenger_count</th>\n",
              "      <th>pickup_longitude</th>\n",
              "      <th>pickup_latitude</th>\n",
              "      <th>dropoff_longitude</th>\n",
              "      <th>dropoff_latitude</th>\n",
              "      <th>store_and_fwd_flag</th>\n",
              "      <th>trip_duration</th>\n",
              "      <th>pick_date</th>\n",
              "      <th>pick_month</th>\n",
              "      <th>pick_hour</th>\n",
              "      <th>pick_day</th>\n",
              "    </tr>\n",
              "    <tr>\n",
              "      <th>vendor_id</th>\n",
              "      <th></th>\n",
              "      <th></th>\n",
              "      <th></th>\n",
              "      <th></th>\n",
              "      <th></th>\n",
              "      <th></th>\n",
              "      <th></th>\n",
              "      <th></th>\n",
              "      <th></th>\n",
              "      <th></th>\n",
              "      <th></th>\n",
              "      <th></th>\n",
              "      <th></th>\n",
              "      <th></th>\n",
              "    </tr>\n",
              "  </thead>\n",
              "  <tbody>\n",
              "    <tr>\n",
              "      <th>1</th>\n",
              "      <td>669297</td>\n",
              "      <td>669297</td>\n",
              "      <td>669297</td>\n",
              "      <td>669297</td>\n",
              "      <td>669297</td>\n",
              "      <td>669297</td>\n",
              "      <td>669297</td>\n",
              "      <td>669297</td>\n",
              "      <td>669297</td>\n",
              "      <td>669297</td>\n",
              "      <td>669297</td>\n",
              "      <td>669297</td>\n",
              "      <td>669297</td>\n",
              "      <td>669297</td>\n",
              "    </tr>\n",
              "    <tr>\n",
              "      <th>2</th>\n",
              "      <td>769882</td>\n",
              "      <td>769882</td>\n",
              "      <td>769882</td>\n",
              "      <td>769882</td>\n",
              "      <td>769882</td>\n",
              "      <td>769882</td>\n",
              "      <td>769882</td>\n",
              "      <td>769882</td>\n",
              "      <td>769882</td>\n",
              "      <td>769882</td>\n",
              "      <td>769882</td>\n",
              "      <td>769882</td>\n",
              "      <td>769882</td>\n",
              "      <td>769882</td>\n",
              "    </tr>\n",
              "  </tbody>\n",
              "</table>\n",
              "</div>"
            ],
            "text/plain": [
              "               id  pickup_datetime  ...  pick_hour  pick_day\n",
              "vendor_id                           ...                     \n",
              "1          669297           669297  ...     669297    669297\n",
              "2          769882           769882  ...     769882    769882\n",
              "\n",
              "[2 rows x 14 columns]"
            ]
          },
          "metadata": {
            "tags": []
          },
          "execution_count": 43
        }
      ]
    },
    {
      "cell_type": "code",
      "metadata": {
        "id": "rFcEHFImHdYL",
        "colab_type": "code",
        "colab": {
          "base_uri": "https://localhost:8080/",
          "height": 297
        },
        "outputId": "e896ea89-e0c2-4bd2-9d1f-90c84974d608"
      },
      "source": [
        "# temp=train.groupby('vendor_id')['trip_duration'].mean()\n",
        "# sns.barplot(temp.index,temp.values)"
      ],
      "execution_count": 44,
      "outputs": [
        {
          "output_type": "execute_result",
          "data": {
            "text/plain": [
              "<matplotlib.axes._subplots.AxesSubplot at 0x7f0aae873978>"
            ]
          },
          "metadata": {
            "tags": []
          },
          "execution_count": 44
        },
        {
          "output_type": "display_data",
          "data": {
            "image/png": "[encoded data removed]",
            "text/plain": [
              "<Figure size 432x288 with 1 Axes>"
            ]
          },
          "metadata": {
            "tags": [],
            "needs_background": "light"
          }
        }
      ]
    },
    {
      "cell_type": "code",
      "metadata": {
        "id": "OmPhqj4XHfEv",
        "colab_type": "code",
        "colab": {
          "base_uri": "https://localhost:8080/",
          "height": 297
        },
        "outputId": "69632d02-730b-44cb-a2c9-6ae0b4f11893"
      },
      "source": [
        "# sns.scatterplot(train['vendor_id'],train['trip_duration'])"
      ],
      "execution_count": 45,
      "outputs": [
        {
          "output_type": "execute_result",
          "data": {
            "text/plain": [
              "<matplotlib.axes._subplots.AxesSubplot at 0x7f0aae7e37b8>"
            ]
          },
          "metadata": {
            "tags": []
          },
          "execution_count": 45
        },
        {
          "output_type": "display_data",
          "data": {
            "image/png": "[encoded data removed]",
            "text/plain": [
              "<Figure size 432x288 with 1 Axes>"
            ]
          },
          "metadata": {
            "tags": [],
            "needs_background": "light"
          }
        }
      ]
    },
    {
      "cell_type": "code",
      "metadata": {
        "id": "mbjqoOsaHg5A",
        "colab_type": "code",
        "colab": {
          "base_uri": "https://localhost:8080/",
          "height": 269
        },
        "outputId": "5f429fd7-9e98-4ccf-f077-203a6c027596"
      },
      "source": [
        "print(train.head(),test.head())"
      ],
      "execution_count": 46,
      "outputs": [
        {
          "output_type": "stream",
          "text": [
            "          id  vendor_id     pickup_datetime  ... pick_month  pick_hour  pick_day\n",
            "0  id2875421          2 2016-03-14 17:24:55  ...          3         17         0\n",
            "1  id2377394          1 2016-06-12 00:43:35  ...          6          0         6\n",
            "2  id3858529          2 2016-01-19 11:35:24  ...          1         11         1\n",
            "3  id3504673          2 2016-04-06 19:32:31  ...          4         19         2\n",
            "4  id2181028          2 2016-03-26 13:30:55  ...          3         13         5\n",
            "\n",
            "[5 rows x 15 columns]           id  vendor_id     pickup_datetime  ...  pick_month  pick_hour  pick_day\n",
            "0  id3004672          1 2016-06-30 23:59:58  ...           6         23         3\n",
            "1  id3505355          1 2016-06-30 23:59:53  ...           6         23         3\n",
            "2  id1217141          1 2016-06-30 23:59:47  ...           6         23         3\n",
            "3  id2150126          2 2016-06-30 23:59:41  ...           6         23         3\n",
            "4  id1598245          1 2016-06-30 23:59:33  ...           6         23         3\n",
            "\n",
            "[5 rows x 13 columns]\n"
          ],
          "name": "stdout"
        }
      ]
    },
    {
      "cell_type": "code",
      "metadata": {
        "id": "ZOmm7-JTHkfE",
        "colab_type": "code",
        "colab": {
          "base_uri": "https://localhost:8080/",
          "height": 282
        },
        "outputId": "acba4cd4-fc96-4d8c-ce02-c4198b44e059"
      },
      "source": [
        "temp=train.groupby('pick_hour')['trip_duration'].mean()\n",
        "plt.plot(temp.values)"
      ],
      "execution_count": 47,
      "outputs": [
        {
          "output_type": "execute_result",
          "data": {
            "text/plain": [
              "[<matplotlib.lines.Line2D at 0x7f0aae755630>]"
            ]
          },
          "metadata": {
            "tags": []
          },
          "execution_count": 47
        },
        {
          "output_type": "display_data",
          "data": {
            "image/png": "[encoded data removed]",
            "text/plain": [
              "<Figure size 432x288 with 1 Axes>"
            ]
          },
          "metadata": {
            "tags": [],
            "needs_background": "light"
          }
        }
      ]
    },
    {
      "cell_type": "code",
      "metadata": {
        "id": "eCf8TQxGHmwe",
        "colab_type": "code",
        "colab": {}
      },
      "source": [
        "# plt.scatter(train['pickup_longitude'],train['pickup_latitude'],color='blue', s=1, label='train', alpha=0.1)\n",
        "# fig, ax = plt.subplots(ncols=1, nrows=1)\n",
        "# ax.scatter(test.pickup_longitude.values[:500000], test.pickup_latitude.values[:500000], s=10, lw=0, color='red', alpha=0.2)\n",
        "# ax.set_xlim(city_long_border)\n",
        "# ax.set_ylim(city_lat_border)\n",
        "# #x[0].scatter(train['pickup_longitude'].values[:100000], train['pickup_latitude'].values[:100000],\n",
        "# #              )"
      ],
      "execution_count": 0,
      "outputs": []
    },
    {
      "cell_type": "code",
      "metadata": {
        "id": "7fRNY0yvHoT1",
        "colab_type": "code",
        "colab": {
          "base_uri": "https://localhost:8080/",
          "height": 34
        },
        "outputId": "c373546b-1a8d-4ec8-c74c-bcd66dc5c345"
      },
      "source": [
        "coordinates=np.vstack((train[['pickup_latitude','pickup_longitude']].values,\n",
        "                     train[['dropoff_latitude','dropoff_longitude']].values\n",
        "                     ))\n",
        "print(coordinates[2])"
      ],
      "execution_count": 48,
      "outputs": [
        {
          "output_type": "stream",
          "text": [
            "[ 40.7639389  -73.97902679]\n"
          ],
          "name": "stdout"
        }
      ]
    },
    {
      "cell_type": "code",
      "metadata": {
        "id": "QC6zmzYvHp-X",
        "colab_type": "code",
        "colab": {}
      },
      "source": [
        "kmeans = MiniBatchKMeans(n_clusters=100, batch_size=10000).fit(coordinates)"
      ],
      "execution_count": 0,
      "outputs": []
    },
    {
      "cell_type": "code",
      "metadata": {
        "id": "UTw_YKU7HrkU",
        "colab_type": "code",
        "colab": {}
      },
      "source": [
        "train[['pickup_latitude','pickup_longitude']].values[0]\n",
        "temp=kmeans.predict(train[['pickup_latitude','pickup_longitude']].values.reshape(-1,2))"
      ],
      "execution_count": 0,
      "outputs": []
    },
    {
      "cell_type": "code",
      "metadata": {
        "id": "sTbqXbxtHs8X",
        "colab_type": "code",
        "colab": {}
      },
      "source": [
        "# plt.figure(figsize=(15,15))\n",
        "# plt.scatter(train['pickup_longitude'],train['pickup_latitude'],c=temp, s=1, label='train', alpha=0.1,cmap='plasma')"
      ],
      "execution_count": 0,
      "outputs": []
    },
    {
      "cell_type": "code",
      "metadata": {
        "id": "CQmrrQf3HwfQ",
        "colab_type": "code",
        "colab": {}
      },
      "source": [
        "train['pickup_cluster']=kmeans.predict(train[['pickup_latitude','pickup_longitude']].values.reshape(-1,2))\n",
        "train['dropoff_cluster']=kmeans.predict(train[['dropoff_latitude','dropoff_longitude']].values.reshape(-1,2))\n",
        "test['pickup_cluster']=kmeans.predict(test[['pickup_latitude','pickup_longitude']].values.reshape(-1,2))\n",
        "test['dropoff_cluster']=kmeans.predict(test[['dropoff_latitude','dropoff_longitude']].values.reshape(-1,2))\n"
      ],
      "execution_count": 0,
      "outputs": []
    },
    {
      "cell_type": "code",
      "metadata": {
        "id": "_ES1U-9kHyg5",
        "colab_type": "code",
        "colab": {
          "base_uri": "https://localhost:8080/",
          "height": 269
        },
        "outputId": "a3627606-69b9-47b4-8003-f4e9a2314d9f"
      },
      "source": [
        "print(train.head(),test.head())"
      ],
      "execution_count": 52,
      "outputs": [
        {
          "output_type": "stream",
          "text": [
            "          id  vendor_id  ... pickup_cluster dropoff_cluster\n",
            "0  id2875421          2  ...              6              56\n",
            "1  id2377394          1  ...             94              47\n",
            "2  id3858529          2  ...             32              79\n",
            "3  id3504673          2  ...             84              18\n",
            "4  id2181028          2  ...             54              83\n",
            "\n",
            "[5 rows x 17 columns]           id  vendor_id  ... pickup_cluster  dropoff_cluster\n",
            "0  id3004672          1  ...             60                7\n",
            "1  id3505355          1  ...             97               27\n",
            "2  id1217141          1  ...             28               60\n",
            "3  id2150126          2  ...             33               60\n",
            "4  id1598245          1  ...             19               74\n",
            "\n",
            "[5 rows x 15 columns]\n"
          ],
          "name": "stdout"
        }
      ]
    },
    {
      "cell_type": "code",
      "metadata": {
        "id": "RxjAbGaXH0Qt",
        "colab_type": "code",
        "colab": {}
      },
      "source": [
        "def haversine_array(lat1, lng1, lat2, lng2):\n",
        "    lat1, lng1, lat2, lng2 = map(np.radians, (lat1, lng1, lat2, lng2))\n",
        "    AVG_EARTH_RADIUS = 6371  # in km\n",
        "    lat = lat2 - lat1\n",
        "    lng = lng2 - lng1\n",
        "    d = np.sin(lat * 0.5) ** 2 + np.cos(lat1) * np.cos(lat2) * np.sin(lng * 0.5) ** 2\n",
        "    h = 2 * AVG_EARTH_RADIUS * np.arcsin(np.sqrt(d))\n",
        "    return h\n",
        "def dummy_manhattan_distance(lat1, lng1, lat2, lng2):\n",
        "    a = haversine_array(lat1, lng1, lat1, lng2)\n",
        "    b = haversine_array(lat1, lng1, lat2, lng1)\n",
        "    return a + b"
      ],
      "execution_count": 0,
      "outputs": []
    },
    {
      "cell_type": "code",
      "metadata": {
        "id": "dqrrCYb5H5P5",
        "colab_type": "code",
        "colab": {}
      },
      "source": [
        "train['manhattan_distance']=dummy_manhattan_distance(train['pickup_latitude'],train['pickup_longitude'],train['dropoff_latitude'],train['dropoff_longitude'])\n",
        "test['manhattan_distance']=dummy_manhattan_distance(test['pickup_latitude'],test['pickup_longitude'],test['dropoff_latitude'],test['dropoff_longitude'])\n"
      ],
      "execution_count": 0,
      "outputs": []
    },
    {
      "cell_type": "code",
      "metadata": {
        "id": "qCWkGJ3HH7D3",
        "colab_type": "code",
        "colab": {
          "base_uri": "https://localhost:8080/",
          "height": 269
        },
        "outputId": "9c5fc840-2cad-4434-c363-1d213d9eca0f"
      },
      "source": [
        "train['traffic_speed']=(train['manhattan_distance']/train['trip_duration'])*1000\n",
        "print(train.head(),test.head())"
      ],
      "execution_count": 55,
      "outputs": [
        {
          "output_type": "stream",
          "text": [
            "          id  vendor_id  ... manhattan_distance traffic_speed\n",
            "0  id2875421          2  ...           1.735433      3.814139\n",
            "1  id2377394          1  ...           2.430506      3.665922\n",
            "2  id3858529          2  ...           8.203575      3.862323\n",
            "3  id3504673          2  ...           1.661331      3.872567\n",
            "4  id2181028          2  ...           1.199457      2.757372\n",
            "\n",
            "[5 rows x 19 columns]           id  vendor_id  ... dropoff_cluster  manhattan_distance\n",
            "0  id3004672          1  ...               7            2.913304\n",
            "1  id3505355          1  ...              27            3.104805\n",
            "2  id1217141          1  ...              60            1.846340\n",
            "3  id2150126          2  ...              60            7.163347\n",
            "4  id1598245          1  ...              74            1.354164\n",
            "\n",
            "[5 rows x 16 columns]\n"
          ],
          "name": "stdout"
        }
      ]
    },
    {
      "cell_type": "code",
      "metadata": {
        "id": "PCJnhdyVH9Al",
        "colab_type": "code",
        "colab": {}
      },
      "source": [
        "# plt.figure(figsize=(15,15))\n",
        "# fig, ax = plt.subplots(ncols=3, nrows=1)\n",
        "# temp=train.groupby(['pick_day'])['traffic_speed'].mean();\n",
        "# ax[0].plot(temp.index,temp.values,'-o')\n",
        "# ax[0].set_xlabel('Speed By Day Of Week')\n",
        "# temp=train.groupby(['pick_month'])['traffic_speed'].mean();\n",
        "# ax[1].plot(temp.index,temp.values,'-o',color='red')\n",
        "# ax[1].set_xlabel('Speed By Month')\n",
        "# temp=train.groupby(['pick_hour'])['traffic_speed'].mean();\n",
        "# ax[2].plot(temp.index,temp.values,'-o',color='purple',lw=2, alpha=0.7)\n",
        "# ax[2].set_xlabel('Speed By Hour Of Day')\n"
      ],
      "execution_count": 0,
      "outputs": []
    },
    {
      "cell_type": "code",
      "metadata": {
        "id": "q6tBJ3llH-uM",
        "colab_type": "code",
        "colab": {}
      },
      "source": [
        "train.shape"
      ],
      "execution_count": 0,
      "outputs": []
    },
    {
      "cell_type": "code",
      "metadata": {
        "id": "_FX3eZ7mIAdz",
        "colab_type": "code",
        "colab": {}
      },
      "source": [
        "vendor_id=pd.get_dummies(train['vendor_id'],prefix='vendor_id')\n",
        "passenger_count=pd.get_dummies(train['passenger_count'],prefix='passenger_count')\n",
        "store_and_fwd_flag=pd.get_dummies(train['store_and_fwd_flag'],prefix='store_and_fwd_flag')\n",
        "pick_month=pd.get_dummies(train['pick_month'],prefix='pick_month')\n",
        "pick_hour=pd.get_dummies(train['pick_hour'],prefix='pick_hour')\n",
        "pick_day=pd.get_dummies(train['pick_day'],prefix='pick_day')\n",
        "pickup_cluster=pd.get_dummies(train['pickup_cluster'],prefix='pickup_cluster')\n",
        "dropoff_cluster=pd.get_dummies(train['dropoff_cluster'],prefix='dropoff_cluster')\n",
        "\n",
        "\n",
        "vendor_id1=pd.get_dummies(test['vendor_id'],prefix='vendor_id')\n",
        "passenger_count1=pd.get_dummies(test['passenger_count'],prefix='passenger_count')\n",
        "store_and_fwd_flag1=pd.get_dummies(test['store_and_fwd_flag'],prefix='store_and_fwd_flag')\n",
        "pick_month1=pd.get_dummies(test['pick_month'],prefix='pick_month')\n",
        "pick_hour1=pd.get_dummies(test['pick_hour'],prefix='pick_hour')\n",
        "pick_day1=pd.get_dummies(test['pick_day'],prefix='pick_day')\n",
        "pickup_cluster1=pd.get_dummies(test['pickup_cluster'],prefix='pickup_cluster')\n",
        "dropoff_cluster1=pd.get_dummies(test['dropoff_cluster'],prefix='dropoff_cluster')\n"
      ],
      "execution_count": 0,
      "outputs": []
    },
    {
      "cell_type": "code",
      "metadata": {
        "id": "RUOm18_DIB-G",
        "colab_type": "code",
        "colab": {
          "base_uri": "https://localhost:8080/",
          "height": 34
        },
        "outputId": "3f575739-3b0e-4b12-8b77-bc0069c9724b"
      },
      "source": [
        "vendor_id.shape,vendor_id1.shape\n",
        "#vendor_id"
      ],
      "execution_count": 57,
      "outputs": [
        {
          "output_type": "execute_result",
          "data": {
            "text/plain": [
              "((1439179, 2), (625134, 2))"
            ]
          },
          "metadata": {
            "tags": []
          },
          "execution_count": 57
        }
      ]
    },
    {
      "cell_type": "code",
      "metadata": {
        "id": "2E6lyjRCIDct",
        "colab_type": "code",
        "colab": {
          "base_uri": "https://localhost:8080/",
          "height": 34
        },
        "outputId": "242885f4-dc1e-48a8-983d-011e1b098df2"
      },
      "source": [
        "passenger_count1.drop(['passenger_count_9'],axis=1,inplace=True)\n",
        "passenger_count.shape,passenger_count1.shape"
      ],
      "execution_count": 58,
      "outputs": [
        {
          "output_type": "execute_result",
          "data": {
            "text/plain": [
              "((1439179, 7), (625134, 7))"
            ]
          },
          "metadata": {
            "tags": []
          },
          "execution_count": 58
        }
      ]
    },
    {
      "cell_type": "code",
      "metadata": {
        "id": "fqxUXhTvIE58",
        "colab_type": "code",
        "colab": {
          "base_uri": "https://localhost:8080/",
          "height": 34
        },
        "outputId": "38a2f9b8-42c4-4e94-f0ea-bfe92243c818"
      },
      "source": [
        "store_and_fwd_flag.shape,store_and_fwd_flag1.shape"
      ],
      "execution_count": 59,
      "outputs": [
        {
          "output_type": "execute_result",
          "data": {
            "text/plain": [
              "((1439179, 2), (625134, 2))"
            ]
          },
          "metadata": {
            "tags": []
          },
          "execution_count": 59
        }
      ]
    },
    {
      "cell_type": "code",
      "metadata": {
        "id": "VmuTS7djIHOI",
        "colab_type": "code",
        "colab": {
          "base_uri": "https://localhost:8080/",
          "height": 34
        },
        "outputId": "56a1093d-b83c-4601-8c4e-3d4961c22bb8"
      },
      "source": [
        "pick_month.shape,pick_month1.shape"
      ],
      "execution_count": 60,
      "outputs": [
        {
          "output_type": "execute_result",
          "data": {
            "text/plain": [
              "((1439179, 6), (625134, 6))"
            ]
          },
          "metadata": {
            "tags": []
          },
          "execution_count": 60
        }
      ]
    },
    {
      "cell_type": "code",
      "metadata": {
        "id": "JHqwkiWOIMr_",
        "colab_type": "code",
        "colab": {
          "base_uri": "https://localhost:8080/",
          "height": 34
        },
        "outputId": "0285cdc8-bb8f-450d-acc8-00e03c388e11"
      },
      "source": [
        "pick_hour.shape,pick_hour1.shape"
      ],
      "execution_count": 61,
      "outputs": [
        {
          "output_type": "execute_result",
          "data": {
            "text/plain": [
              "((1439179, 24), (625134, 24))"
            ]
          },
          "metadata": {
            "tags": []
          },
          "execution_count": 61
        }
      ]
    },
    {
      "cell_type": "code",
      "metadata": {
        "id": "4Ea2uTuzIOKK",
        "colab_type": "code",
        "colab": {
          "base_uri": "https://localhost:8080/",
          "height": 34
        },
        "outputId": "63dc6b7e-37e6-480e-d37e-7967b3d611e5"
      },
      "source": [
        "pick_day.shape,pick_day1.shape"
      ],
      "execution_count": 62,
      "outputs": [
        {
          "output_type": "execute_result",
          "data": {
            "text/plain": [
              "((1439179, 7), (625134, 7))"
            ]
          },
          "metadata": {
            "tags": []
          },
          "execution_count": 62
        }
      ]
    },
    {
      "cell_type": "code",
      "metadata": {
        "id": "urxqSUHpIPh2",
        "colab_type": "code",
        "colab": {
          "base_uri": "https://localhost:8080/",
          "height": 34
        },
        "outputId": "19b16cbe-f585-4b93-fdbe-8c4a29d8ecf6"
      },
      "source": [
        "pickup_cluster.shape,pickup_cluster1.shape"
      ],
      "execution_count": 63,
      "outputs": [
        {
          "output_type": "execute_result",
          "data": {
            "text/plain": [
              "((1439179, 100), (625134, 100))"
            ]
          },
          "metadata": {
            "tags": []
          },
          "execution_count": 63
        }
      ]
    },
    {
      "cell_type": "code",
      "metadata": {
        "id": "HfIFm---RX7-",
        "colab_type": "code",
        "colab": {
          "base_uri": "https://localhost:8080/",
          "height": 34
        },
        "outputId": "bdc0393a-9822-43ed-f02e-ace77a2f4b97"
      },
      "source": [
        "dropoff_cluster.shape,dropoff_cluster1.shape"
      ],
      "execution_count": 64,
      "outputs": [
        {
          "output_type": "execute_result",
          "data": {
            "text/plain": [
              "((1439179, 100), (625134, 100))"
            ]
          },
          "metadata": {
            "tags": []
          },
          "execution_count": 64
        }
      ]
    },
    {
      "cell_type": "code",
      "metadata": {
        "id": "1kr-Pe5tIRIq",
        "colab_type": "code",
        "colab": {
          "base_uri": "https://localhost:8080/",
          "height": 134
        },
        "outputId": "426b20e6-7be0-4b3a-de13-8bd357e82e49"
      },
      "source": [
        "train.columns"
      ],
      "execution_count": 65,
      "outputs": [
        {
          "output_type": "execute_result",
          "data": {
            "text/plain": [
              "Index(['id', 'vendor_id', 'pickup_datetime', 'dropoff_datetime',\n",
              "       'passenger_count', 'pickup_longitude', 'pickup_latitude',\n",
              "       'dropoff_longitude', 'dropoff_latitude', 'store_and_fwd_flag',\n",
              "       'trip_duration', 'pick_date', 'pick_month', 'pick_hour', 'pick_day',\n",
              "       'pickup_cluster', 'dropoff_cluster', 'manhattan_distance',\n",
              "       'traffic_speed'],\n",
              "      dtype='object')"
            ]
          },
          "metadata": {
            "tags": []
          },
          "execution_count": 65
        }
      ]
    },
    {
      "cell_type": "code",
      "metadata": {
        "id": "QTJ4-8fNISl4",
        "colab_type": "code",
        "colab": {}
      },
      "source": [
        "train.drop(['vendor_id','pickup_datetime','dropoff_datetime','passenger_count','store_and_fwd_flag',\n",
        "            'pick_month', 'pick_hour', 'pick_day','pickup_cluster','pick_date','traffic_speed','dropoff_cluster'],axis=1,inplace=True)\n",
        "test.drop(['vendor_id','pickup_datetime','passenger_count','store_and_fwd_flag',\n",
        "            'pick_month', 'pick_hour', 'pick_day','pickup_cluster','pick_date','dropoff_cluster'],axis=1,inplace=True)\n"
      ],
      "execution_count": 0,
      "outputs": []
    },
    {
      "cell_type": "code",
      "metadata": {
        "id": "s2YmAsqxIUSY",
        "colab_type": "code",
        "colab": {
          "base_uri": "https://localhost:8080/",
          "height": 118
        },
        "outputId": "8ad1ab60-b9fb-4489-9851-865524273072"
      },
      "source": [
        "train.columns,test.columns"
      ],
      "execution_count": 67,
      "outputs": [
        {
          "output_type": "execute_result",
          "data": {
            "text/plain": [
              "(Index(['id', 'pickup_longitude', 'pickup_latitude', 'dropoff_longitude',\n",
              "        'dropoff_latitude', 'trip_duration', 'manhattan_distance'],\n",
              "       dtype='object'),\n",
              " Index(['id', 'pickup_longitude', 'pickup_latitude', 'dropoff_longitude',\n",
              "        'dropoff_latitude', 'manhattan_distance'],\n",
              "       dtype='object'))"
            ]
          },
          "metadata": {
            "tags": []
          },
          "execution_count": 67
        }
      ]
    },
    {
      "cell_type": "code",
      "metadata": {
        "id": "WfOti-EhIWav",
        "colab_type": "code",
        "colab": {}
      },
      "source": [
        "train.drop(['id'],inplace=True,axis=1)\n",
        "test.drop(['id'],inplace=True,axis=1)"
      ],
      "execution_count": 0,
      "outputs": []
    },
    {
      "cell_type": "code",
      "metadata": {
        "id": "rVCDZSe0IX0Q",
        "colab_type": "code",
        "colab": {
          "base_uri": "https://localhost:8080/",
          "height": 286
        },
        "outputId": "02eeda0e-07b2-4c42-bf2e-8d29255fe9ff"
      },
      "source": [
        "train.head(),test.head()"
      ],
      "execution_count": 69,
      "outputs": [
        {
          "output_type": "execute_result",
          "data": {
            "text/plain": [
              "(   pickup_longitude  pickup_latitude  ...  trip_duration  manhattan_distance\n",
              " 0        -73.982155        40.767937  ...            455            1.735433\n",
              " 1        -73.980415        40.738564  ...            663            2.430506\n",
              " 2        -73.979027        40.763939  ...           2124            8.203575\n",
              " 3        -74.010040        40.719971  ...            429            1.661331\n",
              " 4        -73.973053        40.793209  ...            435            1.199457\n",
              " \n",
              " [5 rows x 6 columns],\n",
              "    pickup_longitude  pickup_latitude  ...  dropoff_latitude  manhattan_distance\n",
              " 0        -73.988129        40.732029  ...         40.756680            2.913304\n",
              " 1        -73.964203        40.679993  ...         40.655403            3.104805\n",
              " 2        -73.997437        40.737583  ...         40.729523            1.846340\n",
              " 3        -73.956070        40.771900  ...         40.730469            7.163347\n",
              " 4        -73.970215        40.761475  ...         40.755890            1.354164\n",
              " \n",
              " [5 rows x 5 columns])"
            ]
          },
          "metadata": {
            "tags": []
          },
          "execution_count": 69
        }
      ]
    },
    {
      "cell_type": "code",
      "metadata": {
        "id": "zNi2O0sKIZxb",
        "colab_type": "code",
        "colab": {}
      },
      "source": [
        "merge1=train.merge(vendor_id,how='left',left_index=True,right_index=True)\n",
        "merge2=test.merge(vendor_id1,how='left',left_index=True,right_index=True)\n"
      ],
      "execution_count": 0,
      "outputs": []
    },
    {
      "cell_type": "code",
      "metadata": {
        "id": "y_uxTAU6IbbT",
        "colab_type": "code",
        "colab": {}
      },
      "source": [
        "merge1=merge1.merge(passenger_count,how='left',left_index=True,right_index=True)\n",
        "merge2=merge2.merge(passenger_count1,how='left',left_index=True,right_index=True)\n"
      ],
      "execution_count": 0,
      "outputs": []
    },
    {
      "cell_type": "code",
      "metadata": {
        "id": "FuYZRrIOIdGp",
        "colab_type": "code",
        "colab": {}
      },
      "source": [
        "merge1=merge1.merge(pick_month,how='left',left_index=True,right_index=True)\n",
        "merge2=merge2.merge(pick_month1,how='left',left_index=True,right_index=True)\n"
      ],
      "execution_count": 0,
      "outputs": []
    },
    {
      "cell_type": "code",
      "metadata": {
        "id": "hbFw32g2Iesx",
        "colab_type": "code",
        "colab": {
          "base_uri": "https://localhost:8080/",
          "height": 269
        },
        "outputId": "11e9db77-50ae-4513-fe8a-b09451454ab3"
      },
      "source": [
        "merge1=merge1.merge(pick_hour,how='left',left_index=True,right_index=True)\n",
        "merge2=merge2.merge(pick_hour1,how='left',left_index=True,right_index=True)\n",
        "print(merge1.head(),merge2.head())"
      ],
      "execution_count": 73,
      "outputs": [
        {
          "output_type": "stream",
          "text": [
            "   pickup_longitude  pickup_latitude  ...  pick_hour_22  pick_hour_23\n",
            "0        -73.982155        40.767937  ...             0             0\n",
            "1        -73.980415        40.738564  ...             0             0\n",
            "2        -73.979027        40.763939  ...             0             0\n",
            "3        -74.010040        40.719971  ...             0             0\n",
            "4        -73.973053        40.793209  ...             0             0\n",
            "\n",
            "[5 rows x 45 columns]    pickup_longitude  pickup_latitude  ...  pick_hour_22  pick_hour_23\n",
            "0        -73.988129        40.732029  ...             0             1\n",
            "1        -73.964203        40.679993  ...             0             1\n",
            "2        -73.997437        40.737583  ...             0             1\n",
            "3        -73.956070        40.771900  ...             0             1\n",
            "4        -73.970215        40.761475  ...             0             1\n",
            "\n",
            "[5 rows x 44 columns]\n"
          ],
          "name": "stdout"
        }
      ]
    },
    {
      "cell_type": "code",
      "metadata": {
        "id": "CL-oSZbYIgze",
        "colab_type": "code",
        "colab": {
          "base_uri": "https://localhost:8080/",
          "height": 504
        },
        "outputId": "ed7a9a45-f9e3-4826-a383-898aaa924fd1"
      },
      "source": [
        "merge1=merge1.merge(pick_day,how='left',left_index=True,right_index=True)\n",
        "merge2=merge2.merge(pick_day1,how='left',left_index=True,right_index=True)\n",
        "print(merge1.columns,merge2.columns)"
      ],
      "execution_count": 74,
      "outputs": [
        {
          "output_type": "stream",
          "text": [
            "Index(['pickup_longitude', 'pickup_latitude', 'dropoff_longitude',\n",
            "       'dropoff_latitude', 'trip_duration', 'manhattan_distance',\n",
            "       'vendor_id_1', 'vendor_id_2', 'passenger_count_0', 'passenger_count_1',\n",
            "       'passenger_count_2', 'passenger_count_3', 'passenger_count_4',\n",
            "       'passenger_count_5', 'passenger_count_6', 'pick_month_1',\n",
            "       'pick_month_2', 'pick_month_3', 'pick_month_4', 'pick_month_5',\n",
            "       'pick_month_6', 'pick_hour_0', 'pick_hour_1', 'pick_hour_2',\n",
            "       'pick_hour_3', 'pick_hour_4', 'pick_hour_5', 'pick_hour_6',\n",
            "       'pick_hour_7', 'pick_hour_8', 'pick_hour_9', 'pick_hour_10',\n",
            "       'pick_hour_11', 'pick_hour_12', 'pick_hour_13', 'pick_hour_14',\n",
            "       'pick_hour_15', 'pick_hour_16', 'pick_hour_17', 'pick_hour_18',\n",
            "       'pick_hour_19', 'pick_hour_20', 'pick_hour_21', 'pick_hour_22',\n",
            "       'pick_hour_23', 'pick_day_0', 'pick_day_1', 'pick_day_2', 'pick_day_3',\n",
            "       'pick_day_4', 'pick_day_5', 'pick_day_6'],\n",
            "      dtype='object') Index(['pickup_longitude', 'pickup_latitude', 'dropoff_longitude',\n",
            "       'dropoff_latitude', 'manhattan_distance', 'vendor_id_1', 'vendor_id_2',\n",
            "       'passenger_count_0', 'passenger_count_1', 'passenger_count_2',\n",
            "       'passenger_count_3', 'passenger_count_4', 'passenger_count_5',\n",
            "       'passenger_count_6', 'pick_month_1', 'pick_month_2', 'pick_month_3',\n",
            "       'pick_month_4', 'pick_month_5', 'pick_month_6', 'pick_hour_0',\n",
            "       'pick_hour_1', 'pick_hour_2', 'pick_hour_3', 'pick_hour_4',\n",
            "       'pick_hour_5', 'pick_hour_6', 'pick_hour_7', 'pick_hour_8',\n",
            "       'pick_hour_9', 'pick_hour_10', 'pick_hour_11', 'pick_hour_12',\n",
            "       'pick_hour_13', 'pick_hour_14', 'pick_hour_15', 'pick_hour_16',\n",
            "       'pick_hour_17', 'pick_hour_18', 'pick_hour_19', 'pick_hour_20',\n",
            "       'pick_hour_21', 'pick_hour_22', 'pick_hour_23', 'pick_day_0',\n",
            "       'pick_day_1', 'pick_day_2', 'pick_day_3', 'pick_day_4', 'pick_day_5',\n",
            "       'pick_day_6'],\n",
            "      dtype='object')\n"
          ],
          "name": "stdout"
        }
      ]
    },
    {
      "cell_type": "code",
      "metadata": {
        "id": "G_CW-cwbIioS",
        "colab_type": "code",
        "colab": {}
      },
      "source": [
        "merge1=merge1.merge(pickup_cluster,how='left',left_index=True,right_index=True)\n",
        "merge2=merge2.merge(pickup_cluster1,how='left',left_index=True,right_index=True)\n"
      ],
      "execution_count": 0,
      "outputs": []
    },
    {
      "cell_type": "code",
      "metadata": {
        "id": "40DQYUJNBD-y",
        "colab_type": "code",
        "colab": {}
      },
      "source": [
        "merge1=merge1.merge(dropoff_cluster,how='left',left_index=True,right_index=True)\n",
        "merge2=merge2.merge(dropoff_cluster1,how='left',left_index=True,right_index=True)"
      ],
      "execution_count": 0,
      "outputs": []
    },
    {
      "cell_type": "code",
      "metadata": {
        "id": "zPDtXgCKIlDl",
        "colab_type": "code",
        "colab": {
          "base_uri": "https://localhost:8080/",
          "height": 34
        },
        "outputId": "bb7793f0-970e-4a42-eec7-964c46a45254"
      },
      "source": [
        "merge1.shape,merge2.shape"
      ],
      "execution_count": 77,
      "outputs": [
        {
          "output_type": "execute_result",
          "data": {
            "text/plain": [
              "((1439179, 252), (625134, 251))"
            ]
          },
          "metadata": {
            "tags": []
          },
          "execution_count": 77
        }
      ]
    },
    {
      "cell_type": "code",
      "metadata": {
        "id": "6wNEULLtInDl",
        "colab_type": "code",
        "colab": {}
      },
      "source": [
        "X=merge1.drop(['trip_duration'],axis=1)[:1100000]"
      ],
      "execution_count": 0,
      "outputs": []
    },
    {
      "cell_type": "code",
      "metadata": {
        "id": "ciiwlPqpIoeN",
        "colab_type": "code",
        "colab": {}
      },
      "source": [
        "y=np.log(merge1['trip_duration'])[:1100000]"
      ],
      "execution_count": 0,
      "outputs": []
    },
    {
      "cell_type": "code",
      "metadata": {
        "id": "0qVORO44Ipr2",
        "colab_type": "code",
        "colab": {}
      },
      "source": [
        "df1,df2,y_train,y_test=train_test_split(X,y,test_size=0.25)"
      ],
      "execution_count": 0,
      "outputs": []
    },
    {
      "cell_type": "code",
      "metadata": {
        "id": "WAQTAZJiIraU",
        "colab_type": "code",
        "colab": {
          "base_uri": "https://localhost:8080/",
          "height": 34
        },
        "outputId": "9c389c24-7a88-4a5d-aebf-2af7b288b144"
      },
      "source": [
        "df1.shape,df2.shape"
      ],
      "execution_count": 81,
      "outputs": [
        {
          "output_type": "execute_result",
          "data": {
            "text/plain": [
              "((825000, 251), (275000, 251))"
            ]
          },
          "metadata": {
            "tags": []
          },
          "execution_count": 81
        }
      ]
    },
    {
      "cell_type": "code",
      "metadata": {
        "id": "ARZAQS0VBapV",
        "colab_type": "code",
        "colab": {
          "base_uri": "https://localhost:8080/",
          "height": 168
        },
        "outputId": "37b60da6-e2ff-4e0c-eade-1e129662e567"
      },
      "source": [
        "print(merge1.columns)"
      ],
      "execution_count": 82,
      "outputs": [
        {
          "output_type": "stream",
          "text": [
            "Index(['pickup_longitude', 'pickup_latitude', 'dropoff_longitude',\n",
            "       'dropoff_latitude', 'trip_duration', 'manhattan_distance',\n",
            "       'vendor_id_1', 'vendor_id_2', 'passenger_count_0', 'passenger_count_1',\n",
            "       ...\n",
            "       'dropoff_cluster_90', 'dropoff_cluster_91', 'dropoff_cluster_92',\n",
            "       'dropoff_cluster_93', 'dropoff_cluster_94', 'dropoff_cluster_95',\n",
            "       'dropoff_cluster_96', 'dropoff_cluster_97', 'dropoff_cluster_98',\n",
            "       'dropoff_cluster_99'],\n",
            "      dtype='object', length=252)\n"
          ],
          "name": "stdout"
        }
      ]
    },
    {
      "cell_type": "code",
      "metadata": {
        "id": "VwR-1VwAItf0",
        "colab_type": "code",
        "colab": {}
      },
      "source": [
        "xgb_pars = {'min_child_weight': 100, 'eta': 0.3, 'colsample_bytree': 0.3, 'max_depth': 10,\n",
        "            'subsample': 0.8, 'lambda': 1., 'nthread': -1, 'booster' : 'gbtree', 'silent': 1,\n",
        "            'eval_metric': 'rmse', 'objective': 'reg:linear'}"
      ],
      "execution_count": 0,
      "outputs": []
    },
    {
      "cell_type": "code",
      "metadata": {
        "id": "lu76WNrcI1qC",
        "colab_type": "code",
        "colab": {
          "base_uri": "https://localhost:8080/",
          "height": 34
        },
        "outputId": "402bf92d-94d5-46c6-c799-1b775bc996b8"
      },
      "source": [
        "dtrain = xgb.DMatrix(X, label=y)\n",
        "dtrain"
      ],
      "execution_count": 84,
      "outputs": [
        {
          "output_type": "execute_result",
          "data": {
            "text/plain": [
              "<xgboost.core.DMatrix at 0x7f0aae883748>"
            ]
          },
          "metadata": {
            "tags": []
          },
          "execution_count": 84
        }
      ]
    },
    {
      "cell_type": "code",
      "metadata": {
        "id": "rF1NpqXhMnM5",
        "colab_type": "code",
        "colab": {
          "base_uri": "https://localhost:8080/",
          "height": 252
        },
        "outputId": "43132ca9-1c1d-467e-8ea5-b0c4d7049eae"
      },
      "source": [
        "dtrain = xgb.DMatrix(df1, label=y_train)\n",
        "dvalid = xgb.DMatrix(df2, label=y_test)\n",
        "watchlist = [(dtrain, 'train'), (dvalid, 'valid')]\n",
        "xgb_pars = {'min_child_weight': 1, 'eta': 0.5, 'colsample_bytree': 0.9, \n",
        "            'max_depth': 6,\n",
        "'subsample': 0.9, 'lambda': 1., 'nthread': -1, 'booster' : 'gbtree', 'silent': 1,\n",
        "'eval_metric': 'rmse', 'objective': 'reg:linear'}\n",
        "model = xgb.train(xgb_pars, dtrain, 10, watchlist, early_stopping_rounds=4,\n",
        "      maximize=False, verbose_eval=1)\n",
        "print('Modeling RMSLE %.5f' % model.best_score)"
      ],
      "execution_count": 85,
      "outputs": [
        {
          "output_type": "stream",
          "text": [
            "[0]\ttrain-rmse:3.03414\tvalid-rmse:3.03486\n",
            "Multiple eval metrics have been passed: 'valid-rmse' will be used for early stopping.\n",
            "\n",
            "Will train until valid-rmse hasn't improved in 4 rounds.\n",
            "[1]\ttrain-rmse:1.57588\tvalid-rmse:1.57664\n",
            "[2]\ttrain-rmse:0.893264\tvalid-rmse:0.894601\n",
            "[3]\ttrain-rmse:0.611514\tvalid-rmse:0.613572\n",
            "[4]\ttrain-rmse:0.513765\tvalid-rmse:0.516393\n",
            "[5]\ttrain-rmse:0.48388\tvalid-rmse:0.486985\n",
            "[6]\ttrain-rmse:0.473144\tvalid-rmse:0.476595\n",
            "[7]\ttrain-rmse:0.468371\tvalid-rmse:0.472218\n",
            "[8]\ttrain-rmse:0.464619\tvalid-rmse:0.468665\n",
            "[9]\ttrain-rmse:0.461427\tvalid-rmse:0.466029\n",
            "Modeling RMSLE 0.46603\n"
          ],
          "name": "stdout"
        }
      ]
    },
    {
      "cell_type": "code",
      "metadata": {
        "id": "qRNklnN_M6_c",
        "colab_type": "code",
        "colab": {}
      },
      "source": [
        "temp=xgb.DMatrix(merge2)\n",
        "predict=model.predict(temp)"
      ],
      "execution_count": 0,
      "outputs": []
    },
    {
      "cell_type": "code",
      "metadata": {
        "id": "Xs6-dPkJELvg",
        "colab_type": "code",
        "colab": {
          "base_uri": "https://localhost:8080/",
          "height": 312
        },
        "outputId": "b5cb50c9-61f2-4f5e-ebb9-4467d1262538"
      },
      "source": [
        "xgb.plot_importance(model, max_num_features=28, height=0.7)"
      ],
      "execution_count": 87,
      "outputs": [
        {
          "output_type": "execute_result",
          "data": {
            "text/plain": [
              "<matplotlib.axes._subplots.AxesSubplot at 0x7f0a983c4518>"
            ]
          },
          "metadata": {
            "tags": []
          },
          "execution_count": 87
        },
        {
          "output_type": "display_data",
          "data": {
            "image/png": "[encoded data removed]",
            "text/plain": [
              "<Figure size 432x288 with 1 Axes>"
            ]
          },
          "metadata": {
            "tags": [],
            "needs_background": "light"
          }
        }
      ]
    },
    {
      "cell_type": "code",
      "metadata": {
        "id": "2nKVoJl7Ejtw",
        "colab_type": "code",
        "colab": {}
      },
      "source": [
        "result=pd.read_csv('/content/sample_submission.csv')\n",
        "\n",
        "#submission = pd.concat([Test_id, pd.DataFrame(predict)], axis=1)\n",
        "#submission.columns = ['id','trip_duration']\n",
        "#submission.to_csv(\"sample_submission.csv\", index=False)"
      ],
      "execution_count": 0,
      "outputs": []
    },
    {
      "cell_type": "code",
      "metadata": {
        "id": "6FQaxnklE2HP",
        "colab_type": "code",
        "colab": {}
      },
      "source": [
        "ans=pd.DataFrame(np.exp(predict))\n",
        "result=result.merge(ans,how='left',left_index=True,right_index=True)"
      ],
      "execution_count": 0,
      "outputs": []
    },
    {
      "cell_type": "code",
      "metadata": {
        "id": "p8oRBSGRFaKu",
        "colab_type": "code",
        "colab": {
          "base_uri": "https://localhost:8080/",
          "height": 402
        },
        "outputId": "0f2b0c51-9342-4e7b-c603-24e3238f5cb4"
      },
      "source": [
        "result"
      ],
      "execution_count": 90,
      "outputs": [
        {
          "output_type": "execute_result",
          "data": {
            "text/html": [
              "<div>\n",
              "<style scoped>\n",
              "    .dataframe tbody tr th:only-of-type {\n",
              "        vertical-align: middle;\n",
              "    }\n",
              "\n",
              "    .dataframe tbody tr th {\n",
              "        vertical-align: top;\n",
              "    }\n",
              "\n",
              "    .dataframe thead th {\n",
              "        text-align: right;\n",
              "    }\n",
              "</style>\n",
              "<table border=\"1\" class=\"dataframe\">\n",
              "  <thead>\n",
              "    <tr style=\"text-align: right;\">\n",
              "      <th></th>\n",
              "      <th>id</th>\n",
              "      <th>trip_duration</th>\n",
              "      <th>0</th>\n",
              "    </tr>\n",
              "  </thead>\n",
              "  <tbody>\n",
              "    <tr>\n",
              "      <th>0</th>\n",
              "      <td>id3004672</td>\n",
              "      <td>959</td>\n",
              "      <td>734.455322</td>\n",
              "    </tr>\n",
              "    <tr>\n",
              "      <th>1</th>\n",
              "      <td>id3505355</td>\n",
              "      <td>959</td>\n",
              "      <td>656.011536</td>\n",
              "    </tr>\n",
              "    <tr>\n",
              "      <th>2</th>\n",
              "      <td>id1217141</td>\n",
              "      <td>959</td>\n",
              "      <td>420.028595</td>\n",
              "    </tr>\n",
              "    <tr>\n",
              "      <th>3</th>\n",
              "      <td>id2150126</td>\n",
              "      <td>959</td>\n",
              "      <td>1115.216431</td>\n",
              "    </tr>\n",
              "    <tr>\n",
              "      <th>4</th>\n",
              "      <td>id1598245</td>\n",
              "      <td>959</td>\n",
              "      <td>378.545410</td>\n",
              "    </tr>\n",
              "    <tr>\n",
              "      <th>...</th>\n",
              "      <td>...</td>\n",
              "      <td>...</td>\n",
              "      <td>...</td>\n",
              "    </tr>\n",
              "    <tr>\n",
              "      <th>625129</th>\n",
              "      <td>id3008929</td>\n",
              "      <td>959</td>\n",
              "      <td>282.056915</td>\n",
              "    </tr>\n",
              "    <tr>\n",
              "      <th>625130</th>\n",
              "      <td>id3700764</td>\n",
              "      <td>959</td>\n",
              "      <td>1172.097656</td>\n",
              "    </tr>\n",
              "    <tr>\n",
              "      <th>625131</th>\n",
              "      <td>id2568735</td>\n",
              "      <td>959</td>\n",
              "      <td>1372.954102</td>\n",
              "    </tr>\n",
              "    <tr>\n",
              "      <th>625132</th>\n",
              "      <td>id1384355</td>\n",
              "      <td>959</td>\n",
              "      <td>2163.014893</td>\n",
              "    </tr>\n",
              "    <tr>\n",
              "      <th>625133</th>\n",
              "      <td>id0621643</td>\n",
              "      <td>959</td>\n",
              "      <td>1129.187866</td>\n",
              "    </tr>\n",
              "  </tbody>\n",
              "</table>\n",
              "<p>625134 rows × 3 columns</p>\n",
              "</div>"
            ],
            "text/plain": [
              "               id  trip_duration            0\n",
              "0       id3004672            959   734.455322\n",
              "1       id3505355            959   656.011536\n",
              "2       id1217141            959   420.028595\n",
              "3       id2150126            959  1115.216431\n",
              "4       id1598245            959   378.545410\n",
              "...           ...            ...          ...\n",
              "625129  id3008929            959   282.056915\n",
              "625130  id3700764            959  1172.097656\n",
              "625131  id2568735            959  1372.954102\n",
              "625132  id1384355            959  2163.014893\n",
              "625133  id0621643            959  1129.187866\n",
              "\n",
              "[625134 rows x 3 columns]"
            ]
          },
          "metadata": {
            "tags": []
          },
          "execution_count": 90
        }
      ]
    },
    {
      "cell_type": "code",
      "metadata": {
        "id": "ayLiuet7LeEm",
        "colab_type": "code",
        "colab": {}
      },
      "source": [
        "result.drop(['trip_duration'],axis=1,inplace=True)"
      ],
      "execution_count": 0,
      "outputs": []
    },
    {
      "cell_type": "code",
      "metadata": {
        "id": "BuRFW4FsLmM-",
        "colab_type": "code",
        "colab": {
          "base_uri": "https://localhost:8080/",
          "height": 402
        },
        "outputId": "c6005c94-0e32-4b83-fa24-1da69ea1bdd3"
      },
      "source": [
        "result"
      ],
      "execution_count": 92,
      "outputs": [
        {
          "output_type": "execute_result",
          "data": {
            "text/html": [
              "<div>\n",
              "<style scoped>\n",
              "    .dataframe tbody tr th:only-of-type {\n",
              "        vertical-align: middle;\n",
              "    }\n",
              "\n",
              "    .dataframe tbody tr th {\n",
              "        vertical-align: top;\n",
              "    }\n",
              "\n",
              "    .dataframe thead th {\n",
              "        text-align: right;\n",
              "    }\n",
              "</style>\n",
              "<table border=\"1\" class=\"dataframe\">\n",
              "  <thead>\n",
              "    <tr style=\"text-align: right;\">\n",
              "      <th></th>\n",
              "      <th>id</th>\n",
              "      <th>0</th>\n",
              "    </tr>\n",
              "  </thead>\n",
              "  <tbody>\n",
              "    <tr>\n",
              "      <th>0</th>\n",
              "      <td>id3004672</td>\n",
              "      <td>734.455322</td>\n",
              "    </tr>\n",
              "    <tr>\n",
              "      <th>1</th>\n",
              "      <td>id3505355</td>\n",
              "      <td>656.011536</td>\n",
              "    </tr>\n",
              "    <tr>\n",
              "      <th>2</th>\n",
              "      <td>id1217141</td>\n",
              "      <td>420.028595</td>\n",
              "    </tr>\n",
              "    <tr>\n",
              "      <th>3</th>\n",
              "      <td>id2150126</td>\n",
              "      <td>1115.216431</td>\n",
              "    </tr>\n",
              "    <tr>\n",
              "      <th>4</th>\n",
              "      <td>id1598245</td>\n",
              "      <td>378.545410</td>\n",
              "    </tr>\n",
              "    <tr>\n",
              "      <th>...</th>\n",
              "      <td>...</td>\n",
              "      <td>...</td>\n",
              "    </tr>\n",
              "    <tr>\n",
              "      <th>625129</th>\n",
              "      <td>id3008929</td>\n",
              "      <td>282.056915</td>\n",
              "    </tr>\n",
              "    <tr>\n",
              "      <th>625130</th>\n",
              "      <td>id3700764</td>\n",
              "      <td>1172.097656</td>\n",
              "    </tr>\n",
              "    <tr>\n",
              "      <th>625131</th>\n",
              "      <td>id2568735</td>\n",
              "      <td>1372.954102</td>\n",
              "    </tr>\n",
              "    <tr>\n",
              "      <th>625132</th>\n",
              "      <td>id1384355</td>\n",
              "      <td>2163.014893</td>\n",
              "    </tr>\n",
              "    <tr>\n",
              "      <th>625133</th>\n",
              "      <td>id0621643</td>\n",
              "      <td>1129.187866</td>\n",
              "    </tr>\n",
              "  </tbody>\n",
              "</table>\n",
              "<p>625134 rows × 2 columns</p>\n",
              "</div>"
            ],
            "text/plain": [
              "               id            0\n",
              "0       id3004672   734.455322\n",
              "1       id3505355   656.011536\n",
              "2       id1217141   420.028595\n",
              "3       id2150126  1115.216431\n",
              "4       id1598245   378.545410\n",
              "...           ...          ...\n",
              "625129  id3008929   282.056915\n",
              "625130  id3700764  1172.097656\n",
              "625131  id2568735  1372.954102\n",
              "625132  id1384355  2163.014893\n",
              "625133  id0621643  1129.187866\n",
              "\n",
              "[625134 rows x 2 columns]"
            ]
          },
          "metadata": {
            "tags": []
          },
          "execution_count": 92
        }
      ]
    },
    {
      "cell_type": "code",
      "metadata": {
        "id": "bzz0M-TdLw-d",
        "colab_type": "code",
        "colab": {}
      },
      "source": [
        "result.columns = ['id','trip_duration']"
      ],
      "execution_count": 0,
      "outputs": []
    },
    {
      "cell_type": "code",
      "metadata": {
        "id": "oYWlNrJvL3ID",
        "colab_type": "code",
        "colab": {
          "base_uri": "https://localhost:8080/",
          "height": 402
        },
        "outputId": "7d3cc05f-c225-4073-a7c5-3562cc2420ac"
      },
      "source": [
        "result"
      ],
      "execution_count": 94,
      "outputs": [
        {
          "output_type": "execute_result",
          "data": {
            "text/html": [
              "<div>\n",
              "<style scoped>\n",
              "    .dataframe tbody tr th:only-of-type {\n",
              "        vertical-align: middle;\n",
              "    }\n",
              "\n",
              "    .dataframe tbody tr th {\n",
              "        vertical-align: top;\n",
              "    }\n",
              "\n",
              "    .dataframe thead th {\n",
              "        text-align: right;\n",
              "    }\n",
              "</style>\n",
              "<table border=\"1\" class=\"dataframe\">\n",
              "  <thead>\n",
              "    <tr style=\"text-align: right;\">\n",
              "      <th></th>\n",
              "      <th>id</th>\n",
              "      <th>trip_duration</th>\n",
              "    </tr>\n",
              "  </thead>\n",
              "  <tbody>\n",
              "    <tr>\n",
              "      <th>0</th>\n",
              "      <td>id3004672</td>\n",
              "      <td>734.455322</td>\n",
              "    </tr>\n",
              "    <tr>\n",
              "      <th>1</th>\n",
              "      <td>id3505355</td>\n",
              "      <td>656.011536</td>\n",
              "    </tr>\n",
              "    <tr>\n",
              "      <th>2</th>\n",
              "      <td>id1217141</td>\n",
              "      <td>420.028595</td>\n",
              "    </tr>\n",
              "    <tr>\n",
              "      <th>3</th>\n",
              "      <td>id2150126</td>\n",
              "      <td>1115.216431</td>\n",
              "    </tr>\n",
              "    <tr>\n",
              "      <th>4</th>\n",
              "      <td>id1598245</td>\n",
              "      <td>378.545410</td>\n",
              "    </tr>\n",
              "    <tr>\n",
              "      <th>...</th>\n",
              "      <td>...</td>\n",
              "      <td>...</td>\n",
              "    </tr>\n",
              "    <tr>\n",
              "      <th>625129</th>\n",
              "      <td>id3008929</td>\n",
              "      <td>282.056915</td>\n",
              "    </tr>\n",
              "    <tr>\n",
              "      <th>625130</th>\n",
              "      <td>id3700764</td>\n",
              "      <td>1172.097656</td>\n",
              "    </tr>\n",
              "    <tr>\n",
              "      <th>625131</th>\n",
              "      <td>id2568735</td>\n",
              "      <td>1372.954102</td>\n",
              "    </tr>\n",
              "    <tr>\n",
              "      <th>625132</th>\n",
              "      <td>id1384355</td>\n",
              "      <td>2163.014893</td>\n",
              "    </tr>\n",
              "    <tr>\n",
              "      <th>625133</th>\n",
              "      <td>id0621643</td>\n",
              "      <td>1129.187866</td>\n",
              "    </tr>\n",
              "  </tbody>\n",
              "</table>\n",
              "<p>625134 rows × 2 columns</p>\n",
              "</div>"
            ],
            "text/plain": [
              "               id  trip_duration\n",
              "0       id3004672     734.455322\n",
              "1       id3505355     656.011536\n",
              "2       id1217141     420.028595\n",
              "3       id2150126    1115.216431\n",
              "4       id1598245     378.545410\n",
              "...           ...            ...\n",
              "625129  id3008929     282.056915\n",
              "625130  id3700764    1172.097656\n",
              "625131  id2568735    1372.954102\n",
              "625132  id1384355    2163.014893\n",
              "625133  id0621643    1129.187866\n",
              "\n",
              "[625134 rows x 2 columns]"
            ]
          },
          "metadata": {
            "tags": []
          },
          "execution_count": 94
        }
      ]
    },
    {
      "cell_type": "code",
      "metadata": {
        "id": "WxPvtuoML4Xb",
        "colab_type": "code",
        "colab": {}
      },
      "source": [
        "result.to_csv(\"submission.csv\", index=False)"
      ],
      "execution_count": 0,
      "outputs": []
    },
    {
      "cell_type": "code",
      "metadata": {
        "id": "Bgei06dsL-ea",
        "colab_type": "code",
        "colab": {
          "base_uri": "https://localhost:8080/",
          "height": 402
        },
        "outputId": "2bff87f0-2643-4915-a439-6cdef6f405ed"
      },
      "source": [
        "pd.read_csv(\"submission.csv\")"
      ],
      "execution_count": 96,
      "outputs": [
        {
          "output_type": "execute_result",
          "data": {
            "text/html": [
              "<div>\n",
              "<style scoped>\n",
              "    .dataframe tbody tr th:only-of-type {\n",
              "        vertical-align: middle;\n",
              "    }\n",
              "\n",
              "    .dataframe tbody tr th {\n",
              "        vertical-align: top;\n",
              "    }\n",
              "\n",
              "    .dataframe thead th {\n",
              "        text-align: right;\n",
              "    }\n",
              "</style>\n",
              "<table border=\"1\" class=\"dataframe\">\n",
              "  <thead>\n",
              "    <tr style=\"text-align: right;\">\n",
              "      <th></th>\n",
              "      <th>id</th>\n",
              "      <th>trip_duration</th>\n",
              "    </tr>\n",
              "  </thead>\n",
              "  <tbody>\n",
              "    <tr>\n",
              "      <th>0</th>\n",
              "      <td>id3004672</td>\n",
              "      <td>734.45530</td>\n",
              "    </tr>\n",
              "    <tr>\n",
              "      <th>1</th>\n",
              "      <td>id3505355</td>\n",
              "      <td>656.01154</td>\n",
              "    </tr>\n",
              "    <tr>\n",
              "      <th>2</th>\n",
              "      <td>id1217141</td>\n",
              "      <td>420.02860</td>\n",
              "    </tr>\n",
              "    <tr>\n",
              "      <th>3</th>\n",
              "      <td>id2150126</td>\n",
              "      <td>1115.21640</td>\n",
              "    </tr>\n",
              "    <tr>\n",
              "      <th>4</th>\n",
              "      <td>id1598245</td>\n",
              "      <td>378.54540</td>\n",
              "    </tr>\n",
              "    <tr>\n",
              "      <th>...</th>\n",
              "      <td>...</td>\n",
              "      <td>...</td>\n",
              "    </tr>\n",
              "    <tr>\n",
              "      <th>625129</th>\n",
              "      <td>id3008929</td>\n",
              "      <td>282.05692</td>\n",
              "    </tr>\n",
              "    <tr>\n",
              "      <th>625130</th>\n",
              "      <td>id3700764</td>\n",
              "      <td>1172.09770</td>\n",
              "    </tr>\n",
              "    <tr>\n",
              "      <th>625131</th>\n",
              "      <td>id2568735</td>\n",
              "      <td>1372.95410</td>\n",
              "    </tr>\n",
              "    <tr>\n",
              "      <th>625132</th>\n",
              "      <td>id1384355</td>\n",
              "      <td>2163.01500</td>\n",
              "    </tr>\n",
              "    <tr>\n",
              "      <th>625133</th>\n",
              "      <td>id0621643</td>\n",
              "      <td>1129.18790</td>\n",
              "    </tr>\n",
              "  </tbody>\n",
              "</table>\n",
              "<p>625134 rows × 2 columns</p>\n",
              "</div>"
            ],
            "text/plain": [
              "               id  trip_duration\n",
              "0       id3004672      734.45530\n",
              "1       id3505355      656.01154\n",
              "2       id1217141      420.02860\n",
              "3       id2150126     1115.21640\n",
              "4       id1598245      378.54540\n",
              "...           ...            ...\n",
              "625129  id3008929      282.05692\n",
              "625130  id3700764     1172.09770\n",
              "625131  id2568735     1372.95410\n",
              "625132  id1384355     2163.01500\n",
              "625133  id0621643     1129.18790\n",
              "\n",
              "[625134 rows x 2 columns]"
            ]
          },
          "metadata": {
            "tags": []
          },
          "execution_count": 96
        }
      ]
    },
    {
      "cell_type": "code",
      "metadata": {
        "id": "n1qE-zfoMGYA",
        "colab_type": "code",
        "colab": {
          "base_uri": "https://localhost:8080/",
          "height": 67
        },
        "outputId": "678412d3-eb06-490e-fefe-c1a7ce8f586b"
      },
      "source": [
        "!kaggle competitions submit -c nyc-taxi-trip-duration -f submission.csv -m 'answerr'"
      ],
      "execution_count": 97,
      "outputs": [
        {
          "output_type": "stream",
          "text": [
            "Warning: Looks like you're using an outdated API Version, please consider updating (server 1.5.6 / client 1.5.4)\n",
            "100% 11.7M/11.7M [00:01<00:00, 6.38MB/s]\n",
            "Successfully submitted to New York City Taxi Trip Duration"
          ],
          "name": "stdout"
        }
      ]
    },
    {
      "cell_type": "code",
      "metadata": {
        "id": "ZmsR8nWUMu-1",
        "colab_type": "code",
        "colab": {}
      },
      "source": [
        ""
      ],
      "execution_count": 0,
      "outputs": []
    }
  ]
}